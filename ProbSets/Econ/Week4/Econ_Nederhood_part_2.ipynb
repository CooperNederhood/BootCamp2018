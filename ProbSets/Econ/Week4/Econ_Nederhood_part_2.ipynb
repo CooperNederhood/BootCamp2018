{
 "cells": [
  {
   "cell_type": "markdown",
   "metadata": {},
   "source": [
    "## DSGE Homework:\n",
    "#### By Cooper Nederhood "
   ]
  },
  {
   "cell_type": "markdown",
   "metadata": {},
   "source": [
    "### Example 1:"
   ]
  },
  {
   "cell_type": "code",
   "execution_count": 3,
   "metadata": {},
   "outputs": [],
   "source": [
    "# Set parameter values\n",
    "import numpy as np\n",
    "alpha = 0.4\n",
    "beta = 0.98\n",
    "rho = 0.95\n",
    "sigma = 0.02\n",
    "gamma = 2.5\n",
    "zss = 0"
   ]
  },
  {
   "cell_type": "code",
   "execution_count": null,
   "metadata": {},
   "outputs": [],
   "source": [
    "kbar = (beta*alpha)**(1/(1-alpha))\n",
    "F = alpha* (kbar**(alpha-1))/(kbar**alpha - kbar)\n",
    "G = - alpha * (kbar**(alpha-1))*(alpha + kbar**(alpha-1))/(kbar**alpha - kbar)\n",
    "H = (alpha**2) * (kbar**(2*alpha-2))/(kbar**alpha - kbar)\n",
    "L = - alpha * (kbar**(2*alpha - 1))/(kbar**alpha - kbar)\n",
    "M = (alpha**2 * kbar**(2*alpha - 2))/(kbar**alpha - kbar)\n",
    "N = rho\n",
    "P = (-G -np.sqrt(G**2 - 4*F*H))/(2*F)\n",
    "Q = -(L*N + M)/(F*N + F*P + G)a"
   ]
  },
  {
   "cell_type": "code",
   "execution_count": 4,
   "metadata": {},
   "outputs": [
    {
     "name": "stdout",
     "output_type": "stream",
     "text": [
      "3.1333792783220216 -9.24666619684417 3.1973257942061446 -1.6783029001074112 3.1973257942061446 0.95 0.4 0.31952651324084985\n"
     ]
    }
   ],
   "source": [
    "print(F,G,H,L,M,N,P,Q)"
   ]
  },
  {
   "cell_type": "markdown",
   "metadata": {},
   "source": [
    "### Example 2:"
   ]
  },
  {
   "cell_type": "code",
   "execution_count": 5,
   "metadata": {},
   "outputs": [],
   "source": [
    "alpha = 0.4\n",
    "beta = 0.98\n",
    "rho = 0.95\n",
    "sigma = 0.02\n",
    "gamma = 2.5\n",
    "zss = 0"
   ]
  },
  {
   "cell_type": "code",
   "execution_count": 6,
   "metadata": {},
   "outputs": [
    {
     "name": "stdout",
     "output_type": "stream",
     "text": [
      "3.1242559321968844 -9.197000470198772 3.1789192389280077 -1.6766072363234545 3.1789192389280077 0.95 0.40000000000000013 0.31855013985238584\n"
     ]
    }
   ],
   "source": [
    "kbar = (((beta*alpha)**(1/(1-alpha))))\n",
    "kbar = 2.71**np.log(kbar)\n",
    "F = alpha* (kbar**(alpha-1))/(kbar**alpha - kbar)\n",
    "G = - alpha * (kbar**(alpha-1))*(alpha + kbar**(alpha-1))/(kbar**alpha - kbar)\n",
    "H = (alpha**2) * (kbar**(2*alpha-2))/(kbar**alpha - kbar)\n",
    "L = - alpha * (kbar**(2*alpha - 1))/(kbar**alpha - kbar)\n",
    "M = (alpha**2 * kbar**(2*alpha - 2))/(kbar**alpha - kbar)\n",
    "N = rho\n",
    "P = (-G -np.sqrt(G**2 - 4*F*H))/(2*F)\n",
    "Q = -(L*N + M)/(F*N + F*P + G)\n",
    "print(F,G,H,L,M,N,P,Q)"
   ]
  },
  {
   "cell_type": "markdown",
   "metadata": {},
   "source": [
    "### Example 3:"
   ]
  },
  {
   "cell_type": "markdown",
   "metadata": {},
   "source": [
    "$$[(FP_G)P + H]X_{t-1} + Z_t[(FP_G)Q^2 + (FQ+L)NQ + MQ] = 0$$"
   ]
  },
  {
   "cell_type": "markdown",
   "metadata": {},
   "source": [
    "### Example 4:"
   ]
  },
  {
   "cell_type": "code",
   "execution_count": 9,
   "metadata": {},
   "outputs": [],
   "source": [
    "import scipy.optimize as opt"
   ]
  },
  {
   "cell_type": "code",
   "execution_count": 10,
   "metadata": {},
   "outputs": [],
   "source": [
    "beta = 0.98\n",
    "gamma = 2.5\n",
    "alpha = 0.4\n",
    "delta = 0.1\n",
    "tau = 0.05\n",
    "zss = 0\n",
    "a = 0.5\n",
    "Xi = 1.5"
   ]
  },
  {
   "cell_type": "code",
   "execution_count": 11,
   "metadata": {},
   "outputs": [],
   "source": [
    "def foc(ss_val,*args): \n",
    "\n",
    "    c = ss_val[0]\n",
    "    k = ss_val[1]\n",
    "    l = ss_val[2]\n",
    "    \n",
    "    beta, gamma, alpha, delta, tau, zss, a, Xi  = args\n",
    "\n",
    "    r = alpha* (k**(alpha-1) * (np.exp(zss)*l)**(1-alpha))\n",
    "    w = (1-alpha)*np.exp(zss) * (k**alpha) * (l*np.exp(zss))**(-alpha)\n",
    "    res_1 = 1/(c**gamma) - beta * ((r-delta)*(1-tau)+1)/(c**gamma)\n",
    "    res_2 = c + k - (1-delta)*k - (k**(alpha) * (np.exp(zss)*l)**(1-alpha)) \n",
    "    res_3 = -a/((1-l)**Xi) + w*(1-tau)/(c**gamma)\n",
    "    err = np.array([res_1,res_2,res_3])\n",
    "    \n",
    "    return err"
   ]
  },
  {
   "cell_type": "code",
   "execution_count": null,
   "metadata": {},
   "outputs": [],
   "source": [
    "parameter = (beta, gamma, alpha, delta, tau, zss, a, Xi )\n",
    "results = opt.root(foc,np.array([1.0,3.2,0.3]),args=parameter)\n",
    "css,kss,Lss = results.x\n",
    "yss = kss**alpha * Lss**(1-alpha)\n",
    "rss =  alpha*kss**(alpha-1) * Lss**(1-alpha)\n",
    "wss = (1-alpha)* kss**alpha * Lss**(-alpha)\n",
    "Iss = delta*kss\n",
    "Tss = tau*(wss*Lss + (rss-delta)*kss)"
   ]
  },
  {
   "cell_type": "code",
   "execution_count": 12,
   "metadata": {},
   "outputs": [
    {
     "name": "stdout",
     "output_type": "stream",
     "text": [
      "4.225229026782101 0.8607032061542744 0.12148227712140283 1.327952768351102 0.5797914531669861 1.2832261088323458 0.4225229026782101\n"
     ]
    }
   ],
   "source": [
    "print(kss, css, rss, wss, Lss,yss,Iss)"
   ]
  },
  {
   "cell_type": "code",
   "execution_count": null,
   "metadata": {},
   "outputs": [],
   "source": []
  }
 ],
 "metadata": {
  "kernelspec": {
   "display_name": "Python 3",
   "language": "python",
   "name": "python3"
  },
  "language_info": {
   "codemirror_mode": {
    "name": "ipython",
    "version": 3
   },
   "file_extension": ".py",
   "mimetype": "text/x-python",
   "name": "python",
   "nbconvert_exporter": "python",
   "pygments_lexer": "ipython3",
   "version": "3.6.4"
  }
 },
 "nbformat": 4,
 "nbformat_minor": 2
}
