{
 "cells": [
  {
   "cell_type": "markdown",
   "metadata": {},
   "source": [
    "## OSM 2018 Homework 3\n",
    "\n",
    "#### By Cooper Nederhood"
   ]
  },
  {
   "cell_type": "code",
   "execution_count": 2,
   "metadata": {},
   "outputs": [],
   "source": [
    "import numpy as np\n",
    "import quantecon as qe\n",
    "import matplotlib.pyplot as plt\n",
    "import pandas as pd \n"
   ]
  },
  {
   "cell_type": "markdown",
   "metadata": {},
   "source": [
    "In [this paper](http://www.econ.nyu.edu/user/benhabib/Binder4.pdf), Jess Benhabib, Alberto Bisin and Mi Luo study the wealth distribution and social mobility in the US in recent decades.\n",
    "\n",
    "In table 3 they display this matrix, which shows the probability of transitions across wealth percentiles from one generation to the next."
   ]
  },
  {
   "cell_type": "code",
   "execution_count": 5,
   "metadata": {},
   "outputs": [],
   "source": [
    "P = [[0.222, 0.222, 0.215, 0.187, 0.081, 0.038, 0.029, 0.006],\n",
    "     [0.221, 0.220, 0.215, 0.188, 0.082, 0.039, 0.029, 0.006],\n",
    "     [0.207, 0.209, 0.210, 0.194, 0.090, 0.046, 0.036, 0.008],\n",
    "     [0.198, 0.201, 0.207, 0.198, 0.095, 0.052, 0.040, 0.009],\n",
    "     [0.175, 0.178, 0.197, 0.207, 0.110, 0.067, 0.054, 0.012],\n",
    "     [0.182, 0.184, 0.200, 0.205, 0.106, 0.062, 0.050, 0.011],\n",
    "     [0.123, 0.125, 0.166, 0.216, 0.141, 0.114, 0.094, 0.021],\n",
    "     [0.084, 0.084, 0.142, 0.228, 0.170, 0.143, 0.121, 0.028]]"
   ]
  },
  {
   "cell_type": "markdown",
   "metadata": {},
   "source": [
    "### Exercise 1\n",
    "\n",
    "Compute and plot the stationary distribution of the matrix using one of the methods in `quantecon`'s `MarkovChain` object, combined with `matplotlib`."
   ]
  },
  {
   "cell_type": "code",
   "execution_count": 6,
   "metadata": {},
   "outputs": [],
   "source": [
    "mc = qe.markov.core.MarkovChain(P)"
   ]
  },
  {
   "cell_type": "code",
   "execution_count": 7,
   "metadata": {},
   "outputs": [
    {
     "name": "stdout",
     "output_type": "stream",
     "text": [
      "See side-by-side plots below\n"
     ]
    }
   ],
   "source": [
    "static_dist = mc.stationary_distributions\n",
    "print(\"See side-by-side plots below\")"
   ]
  },
  {
   "cell_type": "markdown",
   "metadata": {},
   "source": [
    "### Exercise 2\n",
    "\n",
    "This Markov chain is asymptotically stationary and ergodic, which means that, for any sample path $\\{X_t\\}$ generated according to $P$, we have\n",
    "\n",
    "$$ \\lim_{n \\to \\infty} \\frac{1}{n} \\sum_{t=1}^n \\mathbb 1\\{X_t = j\\} = \\psi(j) $$\n",
    "\n",
    "where $\\psi$ is the stationary distribution and $j$ is an integer between 0 and 7 (the set of possible states).\n",
    "\n",
    "Use this fact to compute an approximation to the stationary distribution $\\psi$.  Confirm visually that your result is similar to the stationary distribution you computed in exercise 1.\n",
    "\n",
    "You can make use of the `simulate` method in `MarkovChain`."
   ]
  },
  {
   "cell_type": "code",
   "execution_count": 8,
   "metadata": {},
   "outputs": [
    {
     "data": {
      "text/plain": [
       "Text(0.5,1,'Simulated static distribution')"
      ]
     },
     "execution_count": 8,
     "metadata": {},
     "output_type": "execute_result"
    },
    {
     "data": {
      "image/png": "[encoded data removed]",
      "text/plain": [
       "<matplotlib.figure.Figure at 0x7f3e6b6a73c8>"
      ]
     },
     "metadata": {},
     "output_type": "display_data"
    }
   ],
   "source": [
    "import pandas as pd\n",
    "sim = mc.simulate(10000)\n",
    "\n",
    "b = np.array(list(range((8))))\n",
    "\n",
    "counts = pd.value_counts(sim).sort_index() / 10000\n",
    "fig, axes = plt.subplots(1,2)\n",
    "axes[0].bar(b, static_dist[0,:])\n",
    "axes[0].set_title('Static distribution')\n",
    "\n",
    "axes[1].bar(b, counts)\n",
    "axes[1].set_title('Simulated static distribution')"
   ]
  },
  {
   "cell_type": "markdown",
   "metadata": {},
   "source": [
    "### Exercise 3\n",
    "\n",
    "Ergodicity also implies that, if we simulate a large number of paths and then look at the cross section at some $T$, where $T$ is suitably large, then the empirical distribution should be close to the stationary distribution.\n",
    "\n",
    "Confirm this by simulation and visual inspection, as above.\n",
    "\n",
    "(In this context, the empirical distribution of a sample is the fraction of observations that take value $j$ for each $j$ in $0, \\ldots, 7$.)"
   ]
  },
  {
   "cell_type": "code",
   "execution_count": 16,
   "metadata": {},
   "outputs": [
    {
     "data": {
      "text/plain": [
       "<Container object of 8 artists>"
      ]
     },
     "execution_count": 16,
     "metadata": {},
     "output_type": "execute_result"
    },
    {
     "data": {
      "image/png": "[encoded data removed]",
      "text/plain": [
       "<matplotlib.figure.Figure at 0x7f3e6b814d30>"
      ]
     },
     "metadata": {},
     "output_type": "display_data"
    }
   ],
   "source": [
    "# Sim N paths\n",
    "N = 1000\n",
    "T = 1000\n",
    "paths = np.zeros(N)\n",
    "for i in range(N):\n",
    "    sim = mc.simulate_indices(ts_length=T)\n",
    "    paths[i] = sim[-1]\n",
    "\n",
    "state = np.zeros(8)\n",
    "for i in range(8):\n",
    "    s = sim == i\n",
    "    state[i] = s.sum()/T\n",
    "\n",
    "plt.bar(b, state)\n",
    "\n"
   ]
  },
  {
   "cell_type": "code",
   "execution_count": null,
   "metadata": {},
   "outputs": [],
   "source": []
  }
 ],
 "metadata": {
  "kernelspec": {
   "display_name": "Python 3",
   "language": "python",
   "name": "python3"
  },
  "language_info": {
   "codemirror_mode": {
    "name": "ipython",
    "version": 3
   },
   "file_extension": ".py",
   "mimetype": "text/x-python",
   "name": "python",
   "nbconvert_exporter": "python",
   "pygments_lexer": "ipython3",
   "version": "3.6.4"
  }
 },
 "nbformat": 4,
 "nbformat_minor": 2
}
