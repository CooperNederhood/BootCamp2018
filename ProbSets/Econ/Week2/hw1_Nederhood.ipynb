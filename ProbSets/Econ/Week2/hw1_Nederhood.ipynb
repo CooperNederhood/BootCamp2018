{
 "cells": [
  {
   "cell_type": "markdown",
   "metadata": {},
   "source": [
    "## OSM Bootcamp 2018 Exercise Set 1\n",
    "\n",
    "\n",
    "#### John Stachurski"
   ]
  },
  {
   "cell_type": "markdown",
   "metadata": {},
   "source": [
    "### Exercise 1\n",
    "\n",
    "Let $X$ be an $n \\times n$ matrix with all positive elements.  The spectral radius $r(X)$ of $X$ is maximum of $|\\lambda|$ over all eigenvalues $\\lambda$ of $X$, where $|\\cdot|$ is the modulus of a complex number.\n",
    "\n",
    "A version of the **local spectral radius theorem** states that if $X$ has all positive entries and $v$ is any strictly positive $n \\times 1$ vector, then\n",
    "\n",
    "$$\n",
    "    \\lim_{i \\to \\infty} \\| X^i v \\|^{1/i} \\to r(X) \n",
    "    \\qquad \\qquad \\text{(LSR)}\n",
    "$$\n",
    "\n",
    "where $\\| \\cdot \\|$ is the usual Euclidean norm.\n",
    "\n",
    "Intuitively, the norm of the iterates of a positive vector scale like $r(X)$ asymptotically.\n",
    "\n",
    "The data file `matrix_data.txt` contains the data for a single matrix $X$.  \n",
    "\n",
    "1. Read it in and compute the spectral raduis using the tools for working with eigenvalues in `scipy.linalg`.\n",
    "\n",
    "2. Test the claim in (LSR) iteratively, computing $\\| X^i v \\|^{1/i}$ for successively larger values of $i$.  See if the sequence so generated converges to $r(A)$."
   ]
  },
  {
   "cell_type": "markdown",
   "metadata": {},
   "source": [
    "#### Write initial functions"
   ]
  },
  {
   "cell_type": "code",
   "execution_count": 7,
   "metadata": {},
   "outputs": [],
   "source": [
    "import numpy as np\n",
    "import numpy.linalg as LA\n",
    "import matplotlib.pyplot as plt"
   ]
  },
  {
   "cell_type": "code",
   "execution_count": 1,
   "metadata": {},
   "outputs": [],
   "source": [
    "# Write functions used in answers\n",
    "mat_txt = np.loadtxt('matrix_data.txt')\n",
    "\n",
    "def spec_radius(mat):\n",
    "    '''\n",
    "    Given a np matrix, returns the spectral radius\n",
    "    '''\n",
    "    e_vals, e_vecs = LA.eig(mat)\n",
    "    \n",
    "    return np.max(e_vals)\n",
    "\n",
    "def lsr_iter(X, v, max_i, threshold):\n",
    "    '''\n",
    "    Tests convergence of ||X^iv||^(1/i) to spectral radius\n",
    "    '''\n",
    "    \n",
    "    cur_X = X\n",
    "    r = spec_radius(X)\n",
    "    \n",
    "    for i in range(1, max_i):\n",
    "        norm = LA.norm(cur_X @ v)\n",
    "        \n",
    "        error = np.abs(norm**(1/i) - r)\n",
    "        \n",
    "        if error < threshold:\n",
    "            return True, i\n",
    "        \n",
    "        cur_X = cur_X @ X\n",
    "    \n",
    "    return False, i"
   ]
  },
  {
   "cell_type": "markdown",
   "metadata": {},
   "source": [
    "#### ANSWER (1 and 2):"
   ]
  },
  {
   "cell_type": "code",
   "execution_count": 2,
   "metadata": {},
   "outputs": [
    {
     "name": "stdout",
     "output_type": "stream",
     "text": [
      "Spectral radius of X is 1.0044277694480632\n",
      "Convergence is achieved after 1202 iterations to error of 0.001\n"
     ]
    }
   ],
   "source": [
    "v = np.ones((mat_txt.shape[0], 1))\n",
    "max_iters = 100000\n",
    "tol = 0.001\n",
    "t = lsr_iter(mat_txt, v, max_iters, tol)\n",
    "print(\"Spectral radius of X is {}\".format(spec_radius(mat_txt)))\n",
    "print(\"Convergence is achieved after {} iterations to error of {}\".format(t[1], tol))"
   ]
  },
  {
   "cell_type": "markdown",
   "metadata": {
    "collapsed": true
   },
   "source": [
    "### Exercise 2"
   ]
  },
  {
   "cell_type": "markdown",
   "metadata": {},
   "source": [
    "Recall that the quadratic map generates time series of the form\n",
    "\n",
    "$$ x_{t+1} = 4 \\, x_t (1 - x_t) $$\n",
    "\n",
    "for some given $x_0$, and that these trajectories are chaotic.\n",
    "\n",
    "This means that different initial conditions generate seemingly very different outcomes.\n",
    "\n",
    "Nevertheless, the regions of the state space where these trajectories spend most of their time are in fact typically invariant to the initial condition.\n",
    "\n",
    "Illustrate this by generating 100 histograms of time series generated from the quadratic map, with $x_0$ drawn independently from the uniform distribution on $(0, 1)$.  \n",
    "\n",
    "Do they all look alike?\n",
    "\n",
    "Try to make your code efficient.\n",
    "\n"
   ]
  },
  {
   "cell_type": "markdown",
   "metadata": {},
   "source": [
    "#### Write initial functions"
   ]
  },
  {
   "cell_type": "code",
   "execution_count": 3,
   "metadata": {},
   "outputs": [],
   "source": [
    "from numba import jit, njit, prange\n",
    "\n",
    "@jit\n",
    "def fn_x(x):\n",
    "    return 4 * x * (1-x)\n",
    "\n",
    "@jit\n",
    "def sim_path(x0, time_steps, f):\n",
    "    '''\n",
    "    Simulates a single path starting at x0, going time_steps.\n",
    "    Applies the function f\n",
    "    '''\n",
    "    \n",
    "    path = np.empty(time_steps)\n",
    "    cur_x = x0\n",
    "    \n",
    "    for i in range(time_steps):\n",
    "        cur_x = f(cur_x)\n",
    "        path[i] = cur_x\n",
    "    \n",
    "    return path\n",
    "\n",
    "@jit(parallel=True)\n",
    "def sim_count_paths(count, time_steps, f):\n",
    "    '''\n",
    "    Simulates count number of paths of length time steps.\n",
    "    Applies the function f\n",
    "    '''\n",
    "    \n",
    "    x0_vec = np.random.uniform(0, 1, count)\n",
    "    all_paths = []\n",
    "    \n",
    "    for i in prange(count):\n",
    "        cur_x0 = x0_vec[i]\n",
    "        all_paths.append(sim_path(cur_x0, time_steps, f))\n",
    "    \n",
    "    return all_paths\n",
    "\n",
    "    "
   ]
  },
  {
   "cell_type": "markdown",
   "metadata": {},
   "source": [
    "#### ANSWER (2):"
   ]
  },
  {
   "cell_type": "code",
   "execution_count": 4,
   "metadata": {},
   "outputs": [],
   "source": [
    "paths = sim_count_paths(100, 10000, fn_x)\n"
   ]
  },
  {
   "cell_type": "code",
   "execution_count": 13,
   "metadata": {},
   "outputs": [
    {
     "data": {
      "image/png": "[encoded data removed]",
      "text/plain": [
       "<matplotlib.figure.Figure at 0x7fa95f971198>"
      ]
     },
     "metadata": {},
     "output_type": "display_data"
    }
   ],
   "source": [
    "fig, axes = plt.subplots(10,10)\n",
    "fig.set_size_inches((7,7))\n",
    "for num, path in enumerate(paths):\n",
    "    i = num % 10\n",
    "    j = num // 10\n",
    "    axes[i][j].hist(path)\n",
    "    "
   ]
  },
  {
   "cell_type": "markdown",
   "metadata": {
    "collapsed": true
   },
   "source": [
    "### Exercise 3"
   ]
  },
  {
   "cell_type": "markdown",
   "metadata": {},
   "source": [
    "In the lecture it was claim that, if $(\\mathbb X, g)$ is a dynamical system, $g$ is continuous at $\\hat x \\in \\mathbb X$ and, for some $x \\in \\mathbb X$, $g^t(x) \\to \\hat x$, then $\\hat x$ is a steady state of $(\\mathbb X, g)$.\n",
    "\n",
    "Prove this."
   ]
  },
  {
   "cell_type": "markdown",
   "metadata": {},
   "source": [
    "See PDF file for proofs"
   ]
  },
  {
   "cell_type": "code",
   "execution_count": null,
   "metadata": {},
   "outputs": [],
   "source": []
  }
 ],
 "metadata": {
  "kernelspec": {
   "display_name": "Python 3",
   "language": "python",
   "name": "python3"
  },
  "language_info": {
   "codemirror_mode": {
    "name": "ipython",
    "version": 3
   },
   "file_extension": ".py",
   "mimetype": "text/x-python",
   "name": "python",
   "nbconvert_exporter": "python",
   "pygments_lexer": "ipython3",
   "version": "3.6.4"
  }
 },
 "nbformat": 4,
 "nbformat_minor": 2
}
