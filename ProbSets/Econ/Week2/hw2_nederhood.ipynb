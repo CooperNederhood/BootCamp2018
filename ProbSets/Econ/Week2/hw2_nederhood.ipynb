{
 "cells": [
  {
   "cell_type": "markdown",
   "metadata": {},
   "source": [
    "## Homework 2\n",
    "\n",
    "#### John Stachurski\n",
    "\n",
    "OSM 2018"
   ]
  },
  {
   "cell_type": "markdown",
   "metadata": {},
   "source": [
    "### Exercise 1"
   ]
  },
  {
   "cell_type": "markdown",
   "metadata": {},
   "source": [
    "Write your own version of a one dimensional [kernel density estimator](https://en.wikipedia.org/wiki/Kernel_density_estimation), which estimates a density from a sample.\n",
    "\n",
    "Write it as a class that takes the data $X$ and bandwidth $h$ when initialized and provides a method $f$ such that\n",
    "\n",
    "$$\n",
    "    f(x) = \\frac{1}{hn} \\sum_{i=1}^n \n",
    "    K \\left( \\frac{x-X_i}{h} \\right)\n",
    "$$\n",
    "\n",
    "For $K$ use the Gaussian kernel ($K$ is the standard normal density).\n",
    "\n",
    "Write the class so that the bandwidth defaults to Silverman's rule (see the \"rule of thumb\" discussion on [this page](https://en.wikipedia.org/wiki/Kernel_density_estimation)).  Test the class you have written by going through the steps\n",
    "\n",
    "1. simulate data $X_1, \\ldots, X_n$ from distribution $\\phi$\n",
    "2. plot the kernel density estimate over a suitable range\n",
    "2. plot the density of $\\phi$ on the same figure\n",
    "\n",
    "for distributions $\\phi$ of the following types\n",
    "\n",
    "\n",
    "* [beta distribution](https://en.wikipedia.org/wiki/Beta_distribution) with $\\alpha = \\beta = 2$\n",
    "* [beta distribution](https://en.wikipedia.org/wiki/Beta_distribution) with $\\alpha = 2$ and $\\beta = 5$\n",
    "* [beta distribution](https://en.wikipedia.org/wiki/Beta_distribution) with $\\alpha = \\beta = 0.5$\n",
    "\n",
    "Use $n=100$.\n",
    "\n",
    "Make a comment on your results.  (Do you think this is a good estimator of these distributions?)"
   ]
  },
  {
   "cell_type": "code",
   "execution_count": 3,
   "metadata": {},
   "outputs": [],
   "source": [
    "import numpy as np\n",
    "from scipy.stats import norm\n",
    "\n",
    "\n",
    "class KDE(object):\n",
    "    \n",
    "    def __init__(self, X, h = None):\n",
    "        '''\n",
    "        Constructor for KDE class\n",
    "        '''\n",
    "        \n",
    "        self.X = X\n",
    "        self.n = X.size\n",
    "        if h is None:\n",
    "            self.h = (np.std(X)) * (( 4 / (3 * self.n) )**(1/5))\n",
    "        else:\n",
    "            self.h = h\n",
    "            \n",
    "    \n",
    "    def f_x(self, x):\n",
    "        '''\n",
    "        KDE estimator function\n",
    "        '''\n",
    "        \n",
    "        x_vals = norm.pdf((x - self.X)/self.h, 0, 1 )\n",
    "        return np.sum(x_vals) / (self.h * self.n)\n",
    "    \n",
    "    def vec_f_x(self, x_vec):\n",
    "        '''\n",
    "        KDE estimator function for a vector of x_vals\n",
    "        '''\n",
    "        \n",
    "        vec = np.empty(x_vec.size)\n",
    "        \n",
    "        for i in range(vec.shape[0]):\n",
    "            vec[i] = self.f_x(x_vec[i])\n",
    "       \n",
    "        return vec \n",
    "    "
   ]
  },
  {
   "cell_type": "code",
   "execution_count": 4,
   "metadata": {},
   "outputs": [
    {
     "data": {
      "text/plain": [
       "<matplotlib.figure.Figure at 0x7f102f3612b0>"
      ]
     },
     "metadata": {},
     "output_type": "display_data"
    }
   ],
   "source": [
    "from scipy.stats import beta\n",
    "import matplotlib.pyplot as plt \n",
    "n = 100\n",
    "beta1 = beta.rvs(2, 2, size=n)\n",
    "kde1 = KDE(beta1)\n",
    "\n",
    "beta2 = beta.rvs(2, 5, size=n)\n",
    "kde2 = KDE(beta2)\n",
    "\n",
    "beta3 = beta.rvs(.5, .5, size=n)\n",
    "kde3 = KDE(beta3)\n",
    "\n",
    "x_vals = np.linspace(0, 1, n)\n",
    "\n",
    "# plot beta1\n",
    "fig, ax = plt.subplots(1,3)\n",
    "fig.set_size_inches(15, 5)\n",
    "\n",
    "ax[0].plot(x_vals, beta.pdf(x_vals, 2, 2))\n",
    "ax[0].plot(x_vals, kde1.vec_f_x(x_vals))\n",
    "ax[0].set_title('a = 2; b = 2')\n",
    "\n",
    "ax[1].plot(x_vals, beta.pdf(x_vals, 2, 5))\n",
    "ax[1].plot(x_vals, kde2.vec_f_x(x_vals))\n",
    "ax[1].set_title('a = 2; b = 5')\n",
    "\n",
    "ax[2].plot(x_vals, beta.pdf(x_vals, .5, .5))\n",
    "ax[2].plot(x_vals, kde3.vec_f_x(x_vals))\n",
    "ax[2].set_title('a = .5; b = .5')\n",
    "\n",
    "fig.suptitle('Beta distributions with kernel estimates')\n",
    "plt.show()"
   ]
  },
  {
   "cell_type": "markdown",
   "metadata": {},
   "source": [
    "As we can see, we have a decent approximation of the distribution until the a=0.5; b=0.5 parameterization. This makes sense, as Silverman's rule of thumb yields decent results when the underlying distribution is close to normal, as in the first two parameterizations but yields worse results when the underlying distribution is far from normal, just like the last parameterization"
   ]
  },
  {
   "cell_type": "markdown",
   "metadata": {},
   "source": [
    "### Exercise 2"
   ]
  },
  {
   "cell_type": "markdown",
   "metadata": {},
   "source": [
    "In class we discussed the following fact:  For the $AR(1)$ process\n",
    "\n",
    "$$ X_{t+1} = \\rho X_t + b + \\sigma \\xi_{t+1} $$\n",
    "\n",
    "with $\\{ \\xi_t \\}$ iid and standard normal, \n",
    "\n",
    "$$ \n",
    "    \\psi_t = N(\\mu, s^2) \\implies \\psi_{t+1} \n",
    "    = N(\\rho \\mu + b, \\rho^2 s^2 + \\sigma^2) \n",
    "$$"
   ]
  },
  {
   "cell_type": "markdown",
   "metadata": {},
   "source": [
    "Confirm this, at least approximately, by simulation.  Let\n",
    "\n",
    "* $\\rho = 0.9$\n",
    "* $b = 0.0$\n",
    "* $\\sigma = 0.1$\n",
    "* $\\mu = -3$\n",
    "* $s = 0.2$\n",
    "\n",
    "First, plot $\\psi_t$ and $\\psi_{t+1}$ using the true distributions described above.\n",
    "\n",
    "Second, plot $\\psi_{t+1}$ on the same figure (in a different color) as follows:\n",
    "\n",
    "1. Generate $n$ draws of $X_t$ from the $N(\\mu, s^2)$ distribution\n",
    "2. Update them all using the rule $X_{t+1} = \\rho X_t + b + \\sigma \\xi_{t+1}$\n",
    "3. Use the resulting sample of $X_{t+1}$ values to produce a density estimate via kernel density estimation.\n",
    "\n",
    "Try this for several different values of $n$ and confirm that the simulation based estimate of $\\psi_{t+1}$ does converge to the theoretical distribution."
   ]
  },
  {
   "cell_type": "code",
   "execution_count": null,
   "metadata": {},
   "outputs": [],
   "source": [
    "from scipy.stats import norm\n",
    "rho = 0.9\n",
    "b = 0.0\n",
    "sigma = 0.1\n",
    "mu = -3\n",
    "s = 0.2\n",
    "\n",
    "x_vals = np.linspace(-3.5, -2.0, 1000)"
   ]
  },
  {
   "cell_type": "code",
   "execution_count": 11,
   "metadata": {},
   "outputs": [],
   "source": [
    "def sim_x_p1(rho, b, sigma, mu, s, n):\n",
    "    '''\n",
    "    Simulate X(t+1) values per above\n",
    "    '''\n",
    "    \n",
    "    xt = norm.rvs(size = n, loc = mu, scale = s**2)\n",
    "    et_p1 = norm.rvs(size = n)\n",
    "    xt_p1 = rho*xt + b + sigma*et_p1\n",
    "    \n",
    "    return xt_p1"
   ]
  },
  {
   "cell_type": "code",
   "execution_count": 16,
   "metadata": {},
   "outputs": [
    {
     "data": {
      "text/plain": [
       "<matplotlib.legend.Legend at 0x7f102456e5c0>"
      ]
     },
     "execution_count": 16,
     "metadata": {},
     "output_type": "execute_result"
    },
    {
     "data": {
      "image/png": "[encoded data removed]",
      "text/plain": [
       "<matplotlib.figure.Figure at 0x7f1024690908>"
      ]
     },
     "metadata": {},
     "output_type": "display_data"
    }
   ],
   "source": [
    "# plot true distributions\n",
    "n_list = [10, 100, 1000, 10000]\n",
    "fig, ax = plt.subplots(1,2)\n",
    "fig.set_size_inches(15, 5)\n",
    "\n",
    "ax[0].plot(x_vals, norm.pdf(x_vals, loc = mu, scale = s), label='true dist')\n",
    "ax[0].set_title('Psi (t)')\n",
    "ax[0].legend()\n",
    "\n",
    "ax[1].plot(x_vals, norm.pdf(x_vals, loc = rho*mu + b, scale = np.sqrt(rho**2 * s**2 + sigma**2)), label='true dist')\n",
    "ax[1].set_title('Psi (t+1)')\n",
    "\n",
    "for n in n_list:\n",
    "    sample = sim_x_p1(rho, b, sigma, mu, s, n)\n",
    "    kde_p1 = KDE(sample)\n",
    "    l = 'empirical n = {}'.format(n)\n",
    "    ax[1].plot(x_vals, kde_p1.vec_f_x(x_vals), label=l)\n",
    "\n",
    "ax[1].legend()"
   ]
  },
  {
   "cell_type": "markdown",
   "metadata": {},
   "source": [
    "The empirical distributions are convergining as n goes to infinity but it appears there is a slight difference in the shape of the distribution. The mean is the same but the variance is a bit off - I don't believe I have made any computation errors so I conjecture this is a result of some kernel estimation errors."
   ]
  },
  {
   "cell_type": "markdown",
   "metadata": {},
   "source": [
    "### Exercise 3"
   ]
  },
  {
   "cell_type": "markdown",
   "metadata": {},
   "source": [
    "In the lecture it was claimed that, for $n \\times n$ matrix $A$, we have\n",
    "\n",
    "$$ r(A) < 1 \\implies A^k \\to 0 $$\n",
    "\n",
    "where convergence is in terms of the spectral norm.  \n",
    "\n",
    "Prove this using Gelfand's formula."
   ]
  },
  {
   "cell_type": "markdown",
   "metadata": {},
   "source": [
    "See attached PDF for proofs"
   ]
  },
  {
   "cell_type": "code",
   "execution_count": null,
   "metadata": {},
   "outputs": [],
   "source": []
  }
 ],
 "metadata": {
  "kernelspec": {
   "display_name": "Python 3",
   "language": "python",
   "name": "python3"
  },
  "language_info": {
   "codemirror_mode": {
    "name": "ipython",
    "version": 3
   },
   "file_extension": ".py",
   "mimetype": "text/x-python",
   "name": "python",
   "nbconvert_exporter": "python",
   "pygments_lexer": "ipython3",
   "version": "3.6.4"
  }
 },
 "nbformat": 4,
 "nbformat_minor": 2
}
