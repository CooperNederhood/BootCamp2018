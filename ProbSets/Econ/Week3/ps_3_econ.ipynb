{
 "cells": [
  {
   "cell_type": "markdown",
   "metadata": {},
   "source": [
    "### Econ problem set 3\n",
    "#### By Cooper Nederhood"
   ]
  },
  {
   "cell_type": "code",
   "execution_count": 49,
   "metadata": {},
   "outputs": [],
   "source": [
    "import numpy as np"
   ]
  },
  {
   "cell_type": "code",
   "execution_count": 50,
   "metadata": {},
   "outputs": [],
   "source": [
    "def feasible(f_params, bvec_guess):\n",
    "    b_cnstr = np.array([False,False])\n",
    "    nvec, A, alpha, delta = f_params\n",
    "\n",
    "    K = np.sum(bvec_guess)\n",
    "    K_cnstr = np.sum(bvec_guess)<=0\n",
    "\n",
    "    L = np.sum(nvec)\n",
    "    r = alpha * A * ( (L/K) ** (1-alpha) ) -delta\n",
    "\n",
    "    w = (1-alpha) * A * ( (K/L) ** alpha)\n",
    "\n",
    "    c_vec, c_cnstr = init_cvec(r,w,bvec_guess,nvec)\n",
    "\n",
    "    if c_cnstr[0]:\n",
    "        b_cnstr[0]=True\n",
    "    if c_cnstr[1]:\n",
    "        b_cnstr[0]=True\n",
    "        b_cnstr[1]=True\n",
    "    if c_cnstr[2]:\n",
    "        b_cnstr[1]=True\n",
    "\n",
    "    return b_cnstr, c_cnstr, K_cnstr"
   ]
  },
  {
   "cell_type": "code",
   "execution_count": 51,
   "metadata": {},
   "outputs": [],
   "source": [
    "def init_cvec(r, w, bvec, nvec):\n",
    "    '''\n",
    "    Small helper function to create cvec and c_cnstr\n",
    "    '''\n",
    "\n",
    "    b = np.append([0], bvec)\n",
    "    b1 = np.append(bvec, [0])\n",
    "    c_vec = (1 + r) * b + w * nvec - b1\n",
    "    c_cnstr = c_vec <= 0\n",
    "\n",
    "    return c_vec, c_cnstr"
   ]
  },
  {
   "cell_type": "markdown",
   "metadata": {},
   "source": [
    "#### Problem 1:"
   ]
  },
  {
   "cell_type": "code",
   "execution_count": 52,
   "metadata": {},
   "outputs": [],
   "source": [
    "beta_annual = 0.96\n",
    "beta = beta_annual**20\n",
    "sigma = 3\n",
    "nvec = np.array([1.0,1.0,0.2])\n",
    "L = nvec.sum()\n",
    "\n",
    "#Firm parameters\n",
    "A = 1.0\n",
    "alpha = 0.35\n",
    "delta_annual = 0.05\n",
    "delta = 1-((1-delta_annual)**20)\n",
    "\n",
    "bvec_a = np.array([1.0, 1.2])\n",
    "bvec_b = np.array([.6, -0.001])\n",
    "bvec_c = np.array([.1, .1])\n",
    "\n",
    "f_params = (nvec,A,alpha,delta)\n",
    "\n",
    "results_a = np.array(feasible(f_params, bvec_a))\n",
    "results_b = np.array(feasible(f_params, bvec_b))\n",
    "results_c = np.array(feasible(f_params, bvec_c))"
   ]
  },
  {
   "cell_type": "code",
   "execution_count": 53,
   "metadata": {},
   "outputs": [
    {
     "name": "stdout",
     "output_type": "stream",
     "text": [
      "Part a:\n",
      "Given bvec_guess of [1.  1.2]\n",
      "\tyields result:\n",
      " [array([ True, False]) array([ True, False, False]) False]\n",
      "\n"
     ]
    }
   ],
   "source": [
    "print(\"Part a:\")\n",
    "print(\"Given bvec_guess of\", bvec_a)\n",
    "print(\"\\tyields result:\\n\", results_a)\n",
    "print()"
   ]
  },
  {
   "cell_type": "code",
   "execution_count": 54,
   "metadata": {},
   "outputs": [
    {
     "name": "stdout",
     "output_type": "stream",
     "text": [
      "Part b:\n",
      "Given bvec_guess of [ 0.6   -0.001]\n",
      "\tyields result:\n",
      " [array([ True, False]) array([ True, False, False]) False]\n",
      "\n"
     ]
    }
   ],
   "source": [
    "print(\"Part b:\")\n",
    "print(\"Given bvec_guess of\", bvec_b)\n",
    "print(\"\\tyields result:\\n\", results_b)\n",
    "print()"
   ]
  },
  {
   "cell_type": "code",
   "execution_count": 55,
   "metadata": {},
   "outputs": [
    {
     "name": "stdout",
     "output_type": "stream",
     "text": [
      "Part c:\n",
      "Given bvec_guess of [0.1 0.1]\n",
      "\tyields result:\n",
      " [array([False, False]) array([False, False, False]) False]\n",
      "\n"
     ]
    }
   ],
   "source": [
    "print(\"Part c:\")\n",
    "print(\"Given bvec_guess of\", bvec_c)\n",
    "print(\"\\tyields result:\\n\", results_c)\n",
    "print()"
   ]
  },
  {
   "cell_type": "markdown",
   "metadata": {},
   "source": [
    "#### Problem 2:"
   ]
  },
  {
   "cell_type": "code",
   "execution_count": 56,
   "metadata": {},
   "outputs": [],
   "source": [
    "import time\n",
    "import scipy.optimize as opt\n",
    "import matplotlib.pyplot as plt\n",
    "from matplotlib.ticker import MultipleLocator"
   ]
  },
  {
   "cell_type": "code",
   "execution_count": 57,
   "metadata": {},
   "outputs": [],
   "source": [
    "def get_w(K, w_args):\n",
    "    '''\n",
    "    Small helper function to calculate w given inputs\n",
    "    '''\n",
    "    \n",
    "    A, alpha, L = w_args\n",
    "    \n",
    "    w = (1 - alpha) * A * (((K) / (L)) ** alpha)\n",
    "    \n",
    "    return w\n",
    "\n",
    "def get_r(K, r_args):\n",
    "    '''\n",
    "    Small helper function to calculate r given inputs\n",
    "    '''\n",
    "    A, alpha, delta, L = r_args\n",
    "    \n",
    "    r = alpha * A * ((L / (K)) ** (1 - alpha)) - delta\n",
    "    \n",
    "    return r"
   ]
  },
  {
   "cell_type": "code",
   "execution_count": 58,
   "metadata": {},
   "outputs": [],
   "source": [
    "def get_SS(params, bvec_guess, SS_graphs):\n",
    "    '''\n",
    "    Per question 2, analyze the steady state savings and consumption decisions\n",
    "    '''\n",
    "    start_time = time.clock()\n",
    "    \n",
    "    beta, sigma, nvec, A, alpha, delta, SS_tol = params\n",
    "    b2, b3 = bvec_guess\n",
    "    \n",
    "    L = np.sum(nvec)\n",
    "    err_args = beta, sigma, A, alpha, delta, L\n",
    "    w_args = A, alpha, L\n",
    "    r_args = A, alpha, delta, L\n",
    "    \n",
    "    results_ss = opt.root(Eul_errs, bvec_guess, tol=SS_tol, args=(err_args))\n",
    "    \n",
    "    b_ss = results_ss.x\n",
    "    w_ss = get_w(np.sum(b_ss), w_args)\n",
    "    r_ss = get_r(np.sum(b_ss), r_args)\n",
    "    c_ss = np.array([w_ss - b_ss[0], w_ss + (1 + r_ss)*b_ss[0] - b_ss[1], (1 + r_ss)*b_ss[1] + .2 * w_ss])\n",
    "    K_ss = np.sum(b_ss)\n",
    "    Y_ss = A * (K_ss ** alpha) * (L ** (1 - alpha))\n",
    "    C_ss = Y_ss - K_ss + (1 - delta) * K_ss\n",
    "    \n",
    "    EulErr_ss = np.array([beta * (1 + r_ss) * (c_ss[1] ** -sigma) - (c_ss[0] ** -sigma),\n",
    "                          beta * (1 + r_ss) * (c_ss[2] ** -sigma) - (c_ss[1] ** -sigma)])\n",
    "    RCerr_ss = Y_ss - C_ss - delta * K_ss\n",
    "    \n",
    "    ss_time = time.clock()\n",
    "    \n",
    "    ss_output = {'b_ss': b_ss, 'c_ss': c_ss, 'w_ss': w_ss, 'r_ss': r_ss, 'K_ss': K_ss, 'Y_ss': Y_ss, 'C_ss': C_ss, \n",
    "        'EulErr_ss': EulErr_ss, 'RCerr_ss': RCerr_ss, \n",
    "        'ss_time': ss_time}\n",
    "     \n",
    "    if SS_graphs == True:\n",
    "        s = np.array([1,2,3])\n",
    "        plt.plot(s, ss_output['c_ss'])\n",
    "        plt.xlabel('Age')\n",
    "        plt.ylabel('Consump.')\n",
    "        plt.title('SS Consumption')\n",
    "        plt.show()\n",
    "\n",
    "        plt.plot(s[1:], ss_output['b_ss'])\n",
    "        plt.xlabel('Age')\n",
    "        plt.ylabel('Saving')\n",
    "        plt.title('SS Saving')\n",
    "        plt.show()\n",
    "        \n",
    "    return ss_output"
   ]
  },
  {
   "cell_type": "code",
   "execution_count": 59,
   "metadata": {},
   "outputs": [],
   "source": [
    "def Eul_errs(bvec, *err_args):\n",
    "\n",
    "    beta, sigma, A, alpha, delta, L = err_args\n",
    "    b2, b3 = bvec\n",
    "    \n",
    "    w_args = A, alpha, L\n",
    "    r_args = A, alpha, delta, L\n",
    "    w = get_w(b2 + b3, w_args) \n",
    "    r = get_r(b2 + b3, r_args) \n",
    "    \n",
    "    c1 = w - b2\n",
    "    c2 = w + (1 + r) * b2 - b3\n",
    "    c3 = (1 + r) * b3 + 0.2 * w\n",
    "    \n",
    "    MU1 = c1 ** (-sigma)\n",
    "    MU2 = c2 ** (-sigma)\n",
    "    MU3 = c3 ** (-sigma)\n",
    "    \n",
    "    err1 = MU1 - beta * (1 + r) * MU2\n",
    "    err2 = MU2 - beta * (1 + r) * MU3\n",
    "    \n",
    "    return err1, err2"
   ]
  },
  {
   "cell_type": "code",
   "execution_count": 60,
   "metadata": {},
   "outputs": [],
   "source": [
    "SS_tol = 0.000001\n",
    "params = ((beta, sigma, nvec, A, alpha, delta, SS_tol))\n",
    "bvec_guess = np.array([.1, .1])"
   ]
  },
  {
   "cell_type": "code",
   "execution_count": 61,
   "metadata": {},
   "outputs": [
    {
     "data": {
      "image/png": "[encoded data removed]",
      "text/plain": [
       "<matplotlib.figure.Figure at 0x7f046a4c1390>"
      ]
     },
     "metadata": {},
     "output_type": "display_data"
    },
    {
     "data": {
      "image/png": "[encoded data removed]",
      "text/plain": [
       "<matplotlib.figure.Figure at 0x7f046a5739b0>"
      ]
     },
     "metadata": {},
     "output_type": "display_data"
    },
    {
     "name": "stdout",
     "output_type": "stream",
     "text": [
      "{'b_ss': array([0.01931274, 0.05841159]), 'c_ss': array([0.18241256, 0.20961491, 0.24087382]), 'w_ss': 0.20172529359537983, 'r_ss': 2.4330302535700885, 'K_ss': 0.07772432611790048, 'Y_ss': 0.6827625321689779, 'C_ss': 0.6329012827930353, 'EulErr_ss': array([-4.58641125e-10,  8.88931595e-10]), 'RCerr_ss': 6.938893903907228e-18, 'ss_time': 6.200648}\n"
     ]
    }
   ],
   "source": [
    "ss_output = get_SS(params, bvec_guess, SS_graphs=True)\n",
    "print(ss_output)"
   ]
  },
  {
   "cell_type": "markdown",
   "metadata": {},
   "source": [
    "Per the output above, it took about 3 seconds for calculations"
   ]
  },
  {
   "cell_type": "code",
   "execution_count": 62,
   "metadata": {},
   "outputs": [
    {
     "data": {
      "image/png": "[encoded data removed]",
      "text/plain": [
       "<matplotlib.figure.Figure at 0x7f046a2a40f0>"
      ]
     },
     "metadata": {},
     "output_type": "display_data"
    },
    {
     "data": {
      "image/png": "[encoded data removed]",
      "text/plain": [
       "<matplotlib.figure.Figure at 0x7f046a328438>"
      ]
     },
     "metadata": {},
     "output_type": "display_data"
    },
    {
     "data": {
      "text/plain": [
       "{'C_ss': 0.691283104418148,\n",
       " 'EulErr_ss': array([6.82537689e-08, 2.50616949e-08]),\n",
       " 'K_ss': 0.10504252544893955,\n",
       " 'RCerr_ss': 0.0,\n",
       " 'Y_ss': 0.7586693632394017,\n",
       " 'b_ss': array([0.02817696, 0.07686557]),\n",
       " 'c_ss': array([0.19597535, 0.22861559, 0.26669216]),\n",
       " 'r_ss': 1.886360000063548,\n",
       " 'ss_time': 6.476579,\n",
       " 'w_ss': 0.22415231186618687}"
      ]
     },
     "execution_count": 62,
     "metadata": {},
     "output_type": "execute_result"
    }
   ],
   "source": [
    "# Problem 2.c\n",
    "beta1 = .55\n",
    "params1 = beta1, sigma, nvec, A, alpha, delta, SS_tol\n",
    "results_ss = get_SS(params1, bvec_guess, SS_graphs=True)\n",
    "results_ss"
   ]
  },
  {
   "cell_type": "markdown",
   "metadata": {},
   "source": [
    "As the beta increases individuals are discounting the future less and thus they become more patient. Accordingly, savings increases. Initially, I had thought this would decrease consumption but total consumption also increases as the increased savings leads to more production. Wages also increase. Only the interest rate decreases, which makes sense, given that increases in the supply of savings causes decreases in borrowing costs."
   ]
  },
  {
   "cell_type": "markdown",
   "metadata": {},
   "source": [
    "#### Problem 3:"
   ]
  },
  {
   "cell_type": "code",
   "execution_count": 63,
   "metadata": {},
   "outputs": [],
   "source": [
    "import scipy.linalg as la"
   ]
  },
  {
   "cell_type": "code",
   "execution_count": 64,
   "metadata": {},
   "outputs": [],
   "source": [
    "def get_b32(b32, *err_args):\n",
    "\n",
    "    beta, sigma, rpath, wpath, nvec, b21 = err1_args\n",
    "    \n",
    "    # Calculate consumption\n",
    "    c1 = wpath[0] * nvec[1] + (1 + rpath[0]) * b21 - b32\n",
    "    c2 = (1 + rpath[1]) * b32 + nvec[2] * wpath[1]\n",
    "    \n",
    "    # Calculate marginal utility\n",
    "    MU1 = c1 ** (-sigma)\n",
    "    MU2 = c2 ** (-sigma)\n",
    "    \n",
    "    # Calculate error \n",
    "    err = MU1 - beta * (1 + rpath[1]) * MU2\n",
    "    \n",
    "    return err\n",
    "\n",
    "def get_b2t_b3t1(bvec, *err2_args):\n",
    "    \n",
    "    beta, sigma, rpath, wpath, nvec = err2_args \n",
    "    \n",
    "    # Calculate consumption \n",
    "    c1 = nvec[0] * wpath[0] - bvec[0]\n",
    "    c2 = nvec[1] * wpath[1] + (1 + rpath[0]) * bvec[0] - bvec[1]\n",
    "    c3 = (1 + rpath[1]) * bvec[1] + nvec[2] * wpath[2]\n",
    "    \n",
    "    # Calculate marginal utility\n",
    "    MU1 = c1 ** (-sigma)\n",
    "    MU2 = c2 ** (-sigma)\n",
    "    MU3 = c3 ** (-sigma)\n",
    "    \n",
    "    # Calculate error\n",
    "    err1 = MU1 - beta * (1 + rpath[0]) * MU2\n",
    "    err2 = MU2 - beta * (1 + rpath[1]) * MU3\n",
    "    \n",
    "    return err1, err2\n"
   ]
  },
  {
   "cell_type": "code",
   "execution_count": 65,
   "metadata": {},
   "outputs": [],
   "source": [
    "# Set parameters\n",
    "beta_annual = 0.96\n",
    "beta = beta_annual ** 20 # economic lifetime is 60 years, 3 periods\n",
    "sigma = 2.2\n",
    "n_vec = np.array([1.0, 1.0, 0.2])\n",
    "L = sum(n_vec)\n",
    "alpha = 0.35\n",
    "A = 1.0\n",
    "delta_annual = 0.05\n",
    "delta = 1 - (1 - delta_annual) ** 20\n",
    "\n",
    "T = 50\n",
    "path_toler = 1e-9\n",
    "xi = 0.2\n",
    "maxIter = 1000\n",
    "\n",
    "params = beta, sigma, nvec, A, alpha, delta, path_toler"
   ]
  },
  {
   "cell_type": "code",
   "execution_count": 66,
   "metadata": {},
   "outputs": [],
   "source": [
    "\n",
    "\n",
    "# Solve for the steady-state\n",
    "results_ss = get_SS(params, bvec_guess, False)\n",
    "b2bar, b3bar = results_ss['b_ss']\n",
    "\n",
    "# Set initial condition\n",
    "b21 = 0.8 * b2bar\n",
    "b31 = 1.1 * b3bar\n",
    "\n",
    "# Initial guess for K\n",
    "K1 = b21 + b31\n",
    "Kbar = b2bar + b3bar\n",
    "Kpath = np.linspace(K1, Kbar, T)\n",
    "# Add to make the same size\n",
    "Kpath = np.append(Kpath, Kbar)\n",
    "w_args = A, alpha, L\n",
    "r_args = A, alpha, delta, L\n",
    "rpath = get_r(Kpath, r_args)\n",
    "wpath = get_w(Kpath, w_args)\n",
    "\n",
    "# Add to make the same size.\n",
    "rbar = get_r(Kbar, r_args)\n",
    "wbar = get_w(Kbar, w_args)\n",
    "rpath = np.append(rpath, rbar)\n",
    "wpath = np.append(wpath, wbar)\n",
    "\n"
   ]
  },
  {
   "cell_type": "code",
   "execution_count": 67,
   "metadata": {},
   "outputs": [],
   "source": [
    "eps = path_toler + 1\n",
    "iteration = 1\n",
    "bvec_guess = np.array([.1, .1])\n",
    "\n",
    "while (iteration < maxIter) and (eps > path_toler):\n",
    "    bmat = np.zeros((T+1,2))\n",
    "    bmat[0,0] = b21\n",
    "    bmat[0,1] = b31\n",
    "    \n",
    "    err1_args = beta, sigma, rpath[:2], wpath[:2], nvec, b21\n",
    "    result1 = opt.root(get_b32, bmat[0,1], args=(err1_args))\n",
    "    bmat[1,1] = result1.x\n",
    "    EulErrs = np.zeros((T+1, 2))\n",
    "    EulErrs[1,1] = result1.fun\n",
    "    \n",
    "    for t in range(1,T):\n",
    "        err2_args = beta, sigma, rpath[t:t+2], wpath[t-1:t+2], nvec\n",
    "        result2 = opt.root(get_b2t_b3t1, bvec_guess, args=(err2_args))\n",
    "        bmat[t,0] = result2.x[0]\n",
    "        bmat[t+1,1] = result2.x[1]\n",
    "        EulErrs[t,0] = result2.fun[0]\n",
    "        EulErrs[t+1,1] = result2.fun[1]\n",
    "\n",
    "    max_EulErrs = np.abs(EulErrs).max(axis = 0)\n",
    "    \n",
    "    Kpath_prime = bmat[:-1].sum(axis=1)\n",
    "    Kpath_prime = np.append(Kpath_prime, Kbar)\n",
    "    eps = la.norm(Kpath_prime - Kpath, 2)\n",
    "    Kpath_new = xi * Kpath_prime + (1 - xi) * Kpath\n",
    "    Kpath = np.copy(Kpath_new)\n",
    "    \n",
    "    rpath = get_r(Kpath, r_args)\n",
    "    wpath = get_w(Kpath, w_args)\n",
    "    \n",
    "    iteration = iteration + 1\n",
    "\n"
   ]
  },
  {
   "cell_type": "code",
   "execution_count": 68,
   "metadata": {},
   "outputs": [
    {
     "name": "stdout",
     "output_type": "stream",
     "text": [
      "Maximum of the absolute values of all the Euler errors across the entire time path:  [1.63495883e-11 3.09750448e-10]\n",
      "Maximum of the absolute value of all the aggregate resource \n",
      "    constraint errors Yt − Ct − Kt+1 + (1 − δ)Kt across the entire time path: 0.023719803220468412\n"
     ]
    }
   ],
   "source": [
    "print(\"Maximum of the absolute values of all the Euler errors across the entire time path: \", max_EulErrs)\n",
    "Y_t = A * (Kpath[:-1] ** alpha) * (2.2 **(1 - alpha))\n",
    "C_t = 2.2 * wpath[:-1] + (1 + rpath[:-1]) * bmat[:-1,0] - bmat[1:,0] + (1 + rpath[:-1]) * bmat[:-1,1] - bmat[1:,1]\n",
    "RC_Err = Y_t - C_t - Kpath[1:] + (1 - delta) * Kpath[:-1]\n",
    "max_RC_Err = np.abs(RC_Err).max()\n",
    "print(\"Maximum of the absolute value of all the aggregate resource \\n\\\n",
    "    constraint errors Yt − Ct − Kt+1 + (1 − δ)Kt across the entire time path:\", max_RC_Err)\n"
   ]
  },
  {
   "cell_type": "code",
   "execution_count": null,
   "metadata": {},
   "outputs": [],
   "source": []
  },
  {
   "cell_type": "code",
   "execution_count": null,
   "metadata": {},
   "outputs": [],
   "source": []
  },
  {
   "cell_type": "code",
   "execution_count": null,
   "metadata": {},
   "outputs": [],
   "source": []
  }
 ],
 "metadata": {
  "kernelspec": {
   "display_name": "Python 3",
   "language": "python",
   "name": "python3"
  },
  "language_info": {
   "codemirror_mode": {
    "name": "ipython",
    "version": 3
   },
   "file_extension": ".py",
   "mimetype": "text/x-python",
   "name": "python",
   "nbconvert_exporter": "python",
   "pygments_lexer": "ipython3",
   "version": "3.6.4"
  }
 },
 "nbformat": 4,
 "nbformat_minor": 2
}
