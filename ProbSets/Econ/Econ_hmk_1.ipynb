{
 "cells": [
  {
   "cell_type": "markdown",
   "metadata": {},
   "source": [
    "### QUESTION 2:"
   ]
  },
  {
   "cell_type": "code",
   "execution_count": 3,
   "metadata": {},
   "outputs": [],
   "source": [
    "# set parameter values\n",
    "import numpy as np\n",
    "import matplotlib.pyplot as plt\n",
    "ALPHA = .4\n",
    "GAMMA = .5\n",
    "DELTA = .05\n",
    "BETA =  .96\n",
    "\n",
    "size_k = 50  # Number of grid points\n",
    "k_min = 0 \n",
    "k_max = 20\n",
    "\n",
    "size_z = 30 # Number of z points\n",
    "z_min = 1\n",
    "z_max = 2"
   ]
  },
  {
   "cell_type": "code",
   "execution_count": null,
   "metadata": {},
   "outputs": [],
   "source": [
    "def gen_consump_matrix(k_vals, z_vals):\n",
    "    '''\n",
    "    Consumption is a function of k and k from next period, the parameter delta,\n",
    "        and the observed value of z\n",
    "    Returns a hyper-matrix of the consumption values given inputs\n",
    "    \n",
    "    Inputs:\n",
    "        - k_vals: (size_k x 1) vector of possible k/k_prime values\n",
    "        - z_vals: (size_z x 1) vector of possible z values\n",
    "    \n",
    "    Returns:\n",
    "        - C: (size_k x size_k) of investment values\n",
    "    '''\n",
    "    \n",
    "    size_k = k_vals.shape[0]\n",
    "    size_z = z_vals.shape[0]\n",
    "    \n",
    "    C = np.zeros( (size_k, size_k, size_z) )\n",
    "    \n",
    "    for i in range(size_k):\n",
    "        for j in range(size_k):\n",
    "            for k in range(size_z):\n",
    "                cur_k = k_vals[i]\n",
    "                cur_k_prime = k_vals[j]\n",
    "                cur_z = z_vals[k]\n",
    "                C[i,j,k] = cur_z * cur_k**ALPHA - cur_k_prime + (1-DELTA)*cur_k\n",
    "    \n",
    "    return C \n",
    "    \n",
    "    \n",
    "    \n",
    "    "
   ]
  },
  {
   "cell_type": "code",
   "execution_count": null,
   "metadata": {},
   "outputs": [],
   "source": [
    "# Generate our possible k's and possible z's then create the k_vals vector and the z_vals vector\n",
    "k_vals = np.linspace(k_min, k_max, size_k)\n",
    "z_vals = np.linspace(z_min, z_max, size_z)\n",
    "\n",
    "C = gen_consump_matrix(k_vals, z_vals)\n",
    "C[C<=0] = 1e-15\n",
    "U = (C ** (1 - GAMMA)) / (1 - GAMMA)"
   ]
  },
  {
   "cell_type": "code",
   "execution_count": null,
   "metadata": {},
   "outputs": [],
   "source": [
    "# Calculate the prob vector for z\n",
    "import ar1_approx as ar1\n",
    "ln_z_vals, pi_t = ar1.addacooper(size_z, 0, 0, sigma_v)\n",
    "z_vals = np.exp(ln_z_vals)\n",
    "z_probs = np.transpose(pi_t)\n",
    "\n",
    "z_probs = z_probs[1,:]"
   ]
  },
  {
   "cell_type": "code",
   "execution_count": null,
   "metadata": {},
   "outputs": [],
   "source": []
  },
  {
   "cell_type": "code",
   "execution_count": null,
   "metadata": {},
   "outputs": [],
   "source": [
    "# Do value function iteration\n",
    "VFtol = 1e-3 \n",
    "VFdist = 7.0 \n",
    "VFmaxiter = 300\n",
    "V = np.zeros((size_k, size_z)) # initial guess at value function\n",
    "Vmat = np.zeros( (size_k, size_k, size_z) ) # initialize Vmat matrix\n",
    "Vstore = np.zeros((size_k, size_z, VFmaxiter)) #initialize Vstore array\n",
    "VFiter = 1 \n",
    "while VFdist > VFtol and VFiter < VFmaxiter:  \n",
    "    for i in range(size_k): # loop over k\n",
    "        for j in range(size_k): # loop over k'\n",
    "            for k in range(size_z): # loop over z \n",
    "                E = V[j,:] @ z_probs\n",
    "                Vmat[i, j, k] = U[i, j, k] + BETA * E \n",
    "      \n",
    "    Vstore[:,:, VFiter] = V.reshape(size_k,size_z) # store value function at each iteration for graphing later\n",
    "    TV = Vmat.max(1) # apply max operator to Vmat (to get V(w))\n",
    "    PF = np.argmax(Vmat, axis=1)\n",
    "    VFdist = (np.absolute(V - TV)).max()  # check distance\n",
    "    V = TV\n",
    "    \n",
    "    print(\"VFdist is {} at iteration {}\".format(VFdist, VFiter))\n",
    "    VFiter += 1 \n",
    "\n",
    "\n",
    "if VFiter < VFmaxiter:\n",
    "    print('Value function converged after this many iterations:', VFiter)\n",
    "else:\n",
    "    print('Value function did not converge')            \n",
    "\n",
    "\n",
    "VF = V # solution to the functional equation"
   ]
  },
  {
   "cell_type": "code",
   "execution_count": null,
   "metadata": {},
   "outputs": [],
   "source": [
    "# Plot value function \n",
    "plt.figure()\n",
    "fig, ax = plt.subplots()\n",
    "ax.plot(k_vals, VF[:, 1], label='$\\epsilon$ = ' + str(z_vals[0]))\n",
    "ax.plot(k_vals, VF[:, 3], label='$\\epsilon$ = ' + str(z_vals[1]))\n",
    "ax.plot(k_vals, VF[:, 5], label='$\\epsilon$ = ' + str(z_vals[2]))\n",
    "ax.plot(k_vals, VF[:, 7], label='$\\epsilon$ = ' + str(z_vals[3]))\n",
    "# Now add the legend with some customizations.\n",
    "legend = ax.legend(loc='lower right', shadow=False)\n",
    "# Set the fontsize\n",
    "for label in legend.get_texts():\n",
    "    label.set_fontsize('large')\n",
    "for label in legend.get_lines():\n",
    "    label.set_linewidth(1.5)  # the legend line width\n",
    "plt.xlabel('capital (k) at time t')\n",
    "plt.ylabel('Value Function')\n",
    "plt.title('Value Function - stochastic return')\n",
    "plt.show()"
   ]
  },
  {
   "cell_type": "code",
   "execution_count": null,
   "metadata": {},
   "outputs": [],
   "source": [
    "# Plot policy function\n",
    "optK = k_vals[PF]\n",
    "plt.figure()\n",
    "fig, ax = plt.subplots()\n",
    "ax.plot(k_vals, optK[:, 1], label='$\\epsilon$ = ' + str(z_vals[0]))\n",
    "ax.plot(k_vals, optK[:, 3], label='$\\epsilon$ = ' + str(z_vals[1]))\n",
    "ax.plot(k_vals, optK[:, 5], label='$\\epsilon$ = ' + str(z_vals[2]))\n",
    "ax.plot(k_vals, optK[:, 7], label='$\\epsilon$ = ' + str(z_vals[3]))\n",
    "# Now add the legend with some customizations.\n",
    "legend = ax.legend(loc='lower right', shadow=False)\n",
    "# Set the fontsize\n",
    "for label in legend.get_texts():\n",
    "    label.set_fontsize('large')\n",
    "for label in legend.get_lines():\n",
    "    label.set_linewidth(1.5)  # the legend line width\n",
    "plt.xlabel('capital (k) at time t')\n",
    "plt.ylabel(\"Optimal choice of k' at time t+1\")\n",
    "plt.title('Policy Function - stochastic return')\n",
    "plt.show()"
   ]
  },
  {
   "cell_type": "markdown",
   "metadata": {},
   "source": [
    "## QUESTION 3:"
   ]
  },
  {
   "cell_type": "code",
   "execution_count": null,
   "metadata": {},
   "outputs": [],
   "source": [
    "# Calculate the prob vector for z\n",
    "import ar1_approx as ar1\n",
    "sigma_v = 0.1\n",
    "ln_z_vals, pi_t = ar1.addacooper(size_z, 0, 0.8, sigma_v)\n",
    "z_vals = np.exp(ln_z_vals)\n",
    "z_probs = np.transpose(pi_t)\n"
   ]
  },
  {
   "cell_type": "code",
   "execution_count": null,
   "metadata": {},
   "outputs": [],
   "source": [
    "# Do value function iteration\n",
    "VFtol = 1e-3 \n",
    "VFdist = 7.0 \n",
    "VFmaxiter = 300\n",
    "V = np.zeros((size_k, size_z)) # initial guess at value function\n",
    "Vmat = np.zeros( (size_k, size_k, size_z) ) # initialize Vmat matrix\n",
    "Vstore = np.zeros((size_k, size_z, VFmaxiter)) #initialize Vstore array\n",
    "VFiter = 1 \n",
    "while VFdist > VFtol and VFiter < VFmaxiter:  \n",
    "    for i in range(size_k): # loop over k\n",
    "        for j in range(size_k): # loop over k'\n",
    "            for k in range(size_z): # loop over z \n",
    "                E = V[j,:] @ z_probs[k]\n",
    "                Vmat[i, j, k] = U[i, j, k] + BETA * E \n",
    "      \n",
    "    Vstore[:,:, VFiter] = V.reshape(size_k,size_z) # store value function at each iteration for graphing later\n",
    "    TV = Vmat.max(1) # apply max operator to Vmat (to get V(w))\n",
    "    PF = np.argmax(Vmat, axis=1)\n",
    "    VFdist = (np.absolute(V - TV)).max()  # check distance\n",
    "    V = TV\n",
    "    \n",
    "    print(\"VFdist is {} at iteration {}\".format(VFdist, VFiter))\n",
    "    VFiter += 1 \n",
    "\n",
    "\n",
    "if VFiter < VFmaxiter:\n",
    "    print('Value function converged after this many iterations:', VFiter)\n",
    "else:\n",
    "    print('Value function did not converge')            \n",
    "\n",
    "\n",
    "VF = V # solution to the functional equation"
   ]
  },
  {
   "cell_type": "code",
   "execution_count": null,
   "metadata": {},
   "outputs": [],
   "source": [
    "# Plot value function \n",
    "plt.figure()\n",
    "fig, ax = plt.subplots()\n",
    "ax.plot(k_vals, VF[:, 1], label='$\\epsilon$ = ' + str(z_vals[0]))\n",
    "ax.plot(k_vals, VF[:, 3], label='$\\epsilon$ = ' + str(z_vals[1]))\n",
    "ax.plot(k_vals, VF[:, 5], label='$\\epsilon$ = ' + str(z_vals[2]))\n",
    "ax.plot(k_vals, VF[:, 7], label='$\\epsilon$ = ' + str(z_vals[3]))\n",
    "# Now add the legend with some customizations.\n",
    "legend = ax.legend(loc='lower right', shadow=False)\n",
    "# Set the fontsize\n",
    "for label in legend.get_texts():\n",
    "    label.set_fontsize('large')\n",
    "for label in legend.get_lines():\n",
    "    label.set_linewidth(1.5)  # the legend line width\n",
    "plt.xlabel('capital (k) at time t')\n",
    "plt.ylabel('Value Function')\n",
    "plt.title('Value Function - stochastic return (AR(1) process)')\n",
    "plt.show()"
   ]
  },
  {
   "cell_type": "code",
   "execution_count": null,
   "metadata": {},
   "outputs": [],
   "source": [
    "# Plot policy function\n",
    "optK = k_vals[PF]\n",
    "plt.figure()\n",
    "fig, ax = plt.subplots()\n",
    "ax.plot(k_vals, optK[:, 1], label='$\\epsilon$ = ' + str(z_vals[0]))\n",
    "ax.plot(k_vals, optK[:, 3], label='$\\epsilon$ = ' + str(z_vals[1]))\n",
    "ax.plot(k_vals, optK[:, 5], label='$\\epsilon$ = ' + str(z_vals[2]))\n",
    "ax.plot(k_vals, optK[:, 7], label='$\\epsilon$ = ' + str(z_vals[3]))\n",
    "# Now add the legend with some customizations.\n",
    "legend = ax.legend(loc='lower right', shadow=False)\n",
    "# Set the fontsize\n",
    "for label in legend.get_texts():\n",
    "    label.set_fontsize('large')\n",
    "for label in legend.get_lines():\n",
    "    label.set_linewidth(1.5)  # the legend line width\n",
    "plt.xlabel('capital (k) at time t')\n",
    "plt.ylabel(\"Optimal choice of k' at time t+1\")\n",
    "plt.title('Policy Function - stochastic return (AR(1) process)')\n",
    "plt.show()"
   ]
  },
  {
   "cell_type": "markdown",
   "metadata": {},
   "source": [
    "## QUESTION 4:"
   ]
  },
  {
   "cell_type": "code",
   "execution_count": 19,
   "metadata": {},
   "outputs": [],
   "source": [
    "import ar1_approx as ar1\n",
    "import numpy as np"
   ]
  },
  {
   "cell_type": "code",
   "execution_count": 28,
   "metadata": {},
   "outputs": [],
   "source": [
    "# Calculate the prob vector for wage draws\n",
    "size_w = 50  # Number of w wage grid points\n",
    "sigma_v = 0.15\n",
    "mu_v = 0\n",
    "rho_v = 0\n",
    "\n",
    "ln_w_vals, pi_t = ar1.addacooper(size_w, mu_v, rho_v, sigma_v)\n",
    "w_vals = np.exp(ln_w_vals)\n",
    "w_probs = np.transpose(pi_t)\n",
    "\n",
    "# Our wage in next period is unconditional - extract a single row\n",
    "w_probs = w_probs[:,1]"
   ]
  },
  {
   "cell_type": "code",
   "execution_count": null,
   "metadata": {},
   "outputs": [],
   "source": [
    "# Set initial parameters\n",
    "BETA = 0.96 # Discounting\n",
    "b = 0.05 # Unemployment benefits\n"
   ]
  },
  {
   "cell_type": "code",
   "execution_count": 62,
   "metadata": {},
   "outputs": [],
   "source": [
    "# Write function for VFI given certain params\n",
    "def VFI_discrete(w_probs, w_vals, beta, b):\n",
    "    '''\n",
    "    Given probabilities for w and choice of beta (discounting) \n",
    "    and b (unemployment benefits) returns\n",
    "    the following information:\n",
    "\n",
    "    \n",
    "    Returns (tuple) containing:\n",
    "        - V: solution to the functional equation\n",
    "        - PF_discrete: policy function solution\n",
    "        - break_point: \"hinge\" point of w at point of indifference\n",
    "    '''\n",
    "    size_w = w_probs.shape[0]\n",
    "    VFtol = 1e-2\n",
    "    VFdist = 7.0 \n",
    "    VFmaxiter = 300 \n",
    "    V = np.zeros((size_w)) # initial guess at value function\n",
    "    TV = np.zeros((size_w))\n",
    "    PF_discrete = np.zeros((size_w))\n",
    "    Vmat = np.zeros((size_w, size_w)) # initialize Vmat matrix\n",
    "    Vstore = np.zeros((size_w, VFmaxiter)) #initialize Vstore array\n",
    "    VFiter = 1 \n",
    "\n",
    "    while VFdist > VFtol and VFiter < VFmaxiter:\n",
    "        EV = V @ w_probs # calculate expected Value Function\n",
    "\n",
    "        for i in range(size_w): # loop over w  \n",
    "            cur_w = w_vals[i]\n",
    "            U_accept = cur_w / (1-beta)  # Lifetime expected value from accepting\n",
    "            Vwait = b + beta * EV           # Lifetime expceted value from waiting\n",
    "\n",
    "            TV[i] = max(U_accept, Vwait)\n",
    "            PF_discrete[i] = U_accept >= Vwait  # = 1 if eat cake\n",
    "\n",
    "        Vstore[:, VFiter] = TV # store value function at each iteration for graphing later \n",
    "        VFdist = (np.absolute(V - TV)).max()  # check distance\n",
    "        V = TV\n",
    "        VFiter += 1 \n",
    "\n",
    "    if VFiter < VFmaxiter:\n",
    "        #print('Value function converged after this many iterations:', VFiter)\n",
    "        pass\n",
    "    else:\n",
    "        print('Value function did not converge')          \n",
    "    \n",
    "    #NOTE: when not absolute max returns the first, which indicates the break point\n",
    "    break_point = w_vals[ np.argmax(PF_discrete) ]\n",
    "    \n",
    "    return (V, PF_discrete, break_point)\n"
   ]
  },
  {
   "cell_type": "code",
   "execution_count": 63,
   "metadata": {},
   "outputs": [],
   "source": [
    "import matplotlib.pyplot as plt"
   ]
  },
  {
   "cell_type": "code",
   "execution_count": 64,
   "metadata": {},
   "outputs": [
    {
     "name": "stdout",
     "output_type": "stream",
     "text": [
      "Break even wage offer is: 0.9738879885903856\n"
     ]
    },
    {
     "data": {
      "image/png": "[encoded data removed]",
      "text/plain": [
       "<matplotlib.figure.Figure at 0x7f46b352c160>"
      ]
     },
     "metadata": {},
     "output_type": "display_data"
    }
   ],
   "source": [
    "# Calculate V under the initial assumptions, print value function, print break point wage offer\n",
    "results0 = VFI_discrete(w_probs, w_vals, BETA, b)\n",
    "V, PF_discrete, break_point = results0\n",
    "\n",
    "plt.plot(w_vals, V)\n",
    "plt.xlabel(\"Observed wage offer\")\n",
    "plt.ylabel(\"Maximum exp discounted wages\")\n",
    "plt.title(\"Value as fn of observed wage offer\")\n",
    "plt.ylim((0,np.max(V)*1.2))\n",
    "\n",
    "print(\"Break even wage offer is: {}\".format(break_point))"
   ]
  },
  {
   "cell_type": "code",
   "execution_count": 71,
   "metadata": {},
   "outputs": [
    {
     "data": {
      "text/plain": [
       "Text(0.5,1,'Break point wage as fn of unemploy benefits')"
      ]
     },
     "execution_count": 71,
     "metadata": {},
     "output_type": "execute_result"
    },
    {
     "data": {
      "image/png": "[encoded data removed]",
      "text/plain": [
       "<matplotlib.figure.Figure at 0x7f46b3d19b38>"
      ]
     },
     "metadata": {},
     "output_type": "display_data"
    }
   ],
   "source": [
    "# Calculate the break even wage as a function of b, the unemployment benefits\n",
    "b_vals = np.linspace(0, 1, 20)\n",
    "break_points = np.empty(b_vals.size)\n",
    "for i in range(b_vals.size):\n",
    "    cur_b = b_vals[i]\n",
    "    b_p = VFI_discrete(w_probs, w_vals, BETA, cur_b)[2]\n",
    "    break_points[i] = b_p\n",
    "\n",
    "break_points_anal = b_vals * (1-BETA) + BETA * 1\n",
    "\n",
    "plt.plot(b_vals, break_points, label='Emp break pts')\n",
    "plt.plot(b_vals, break_points_anal, label='Analytical break pts')\n",
    "plt.legend()\n",
    "plt.xlabel(\"Unemployment benefit\")\n",
    "plt.ylabel(\"Break point wage offer\")\n",
    "plt.title(\"Break point wage as fn of unemploy benefits\")\n"
   ]
  },
  {
   "cell_type": "markdown",
   "metadata": {},
   "source": [
    "NOTE: I believe the flat areas and the slight vertical adjustment between the empirical and the analytically derived results are due to the discretization required by the computation.\n",
    "As shown in the analytic section, the relationship should be linear"
   ]
  },
  {
   "cell_type": "code",
   "execution_count": null,
   "metadata": {},
   "outputs": [],
   "source": []
  },
  {
   "cell_type": "code",
   "execution_count": null,
   "metadata": {},
   "outputs": [],
   "source": []
  },
  {
   "cell_type": "code",
   "execution_count": null,
   "metadata": {},
   "outputs": [],
   "source": []
  }
 ],
 "metadata": {
  "kernelspec": {
   "display_name": "Python 3",
   "language": "python",
   "name": "python3"
  },
  "language_info": {
   "codemirror_mode": {
    "name": "ipython",
    "version": 3
   },
   "file_extension": ".py",
   "mimetype": "text/x-python",
   "name": "python",
   "nbconvert_exporter": "python",
   "pygments_lexer": "ipython3",
   "version": "3.6.4"
  }
 },
 "nbformat": 4,
 "nbformat_minor": 2
}
