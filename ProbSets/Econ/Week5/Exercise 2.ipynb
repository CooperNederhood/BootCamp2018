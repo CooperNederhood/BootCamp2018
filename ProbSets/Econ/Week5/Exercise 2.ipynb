{
 "cells": [
  {
   "cell_type": "markdown",
   "metadata": {},
   "source": [
    "### Exercise 2\n",
    "#### By Cooper Nederhood"
   ]
  },
  {
   "cell_type": "markdown",
   "metadata": {},
   "source": [
    "#### Part (a):"
   ]
  },
  {
   "cell_type": "code",
   "execution_count": 7,
   "metadata": {},
   "outputs": [],
   "source": [
    "#import packages \n",
    "import numpy as np\n",
    "import pandas as pd\n",
    "import scipy.stats as sts\n",
    "import os\n",
    "import matplotlib.pyplot as plt\n",
    "import scipy.optimize as opt\n",
    "from scipy import special\n",
    "from scipy.integrate import quad\n",
    "from scipy.stats import norm"
   ]
  },
  {
   "cell_type": "code",
   "execution_count": 12,
   "metadata": {},
   "outputs": [],
   "source": [
    "data = np.loadtxt('MacroSeries.txt', delimiter=\",\")\n",
    "beta = 0.99\n",
    "c = data[:, 0]\n",
    "k = data[:, 1]\n",
    "w = data[:, 2]\n",
    "r = data[:, 3]"
   ]
  },
  {
   "cell_type": "code",
   "execution_count": 18,
   "metadata": {},
   "outputs": [],
   "source": [
    "# Set initial vals\n",
    "alpha0 = 0.5\n",
    "rho0 = 0.5\n",
    "mu0 = 8\n",
    "sigma0 = 0.5\n",
    "params0 = (alpha0, rho0, mu0, sigma0)"
   ]
  },
  {
   "cell_type": "code",
   "execution_count": 19,
   "metadata": {},
   "outputs": [],
   "source": [
    "# Define functions\n",
    "def calc_z(w, alpha, k):\n",
    "    z = np.log(w) - np.log(1-alpha) - alpha*np.log(k) \n",
    "    \n",
    "    return z \n",
    "\n",
    "def norm_pdf(z, rho, mu, sigma):\n",
    "    z[0] = mu\n",
    "    mean = rho * z[:-1] + (1 - rho) * mu\n",
    "    params = np.hstack([mu, mean])\n",
    "    logpdf_vals = norm.pdf(z, params, sigma)\n",
    "    \n",
    "    return logpdf_vals\n",
    "\n",
    "def crit_fn1(params, *args):\n",
    "   \n",
    "    alpha, rho, mu, sigma = params\n",
    "    w, k  = args\n",
    "    z = calc_z(w, alpha, k)\n",
    "    pdf_vals = np.log(norm_pdf(z, rho, mu, sigma))\n",
    "    \n",
    "    return -pdf_vals.sum()"
   ]
  },
  {
   "cell_type": "code",
   "execution_count": 25,
   "metadata": {},
   "outputs": [
    {
     "name": "stdout",
     "output_type": "stream",
     "text": [
      "Results are:\n",
      "      fun: -95.55298518258294\n",
      " hess_inv: <4x4 LbfgsInvHessProduct with dtype=float64>\n",
      "      jac: array([-0.01463576, -0.00019327, -0.00170104,  0.00201652])\n",
      "  message: b'CONVERGENCE: REL_REDUCTION_OF_F_<=_FACTR*EPSMCH'\n",
      "     nfev: 300\n",
      "      nit: 43\n",
      "   status: 0\n",
      "  success: True\n",
      "        x: array([0.85065892, 0.51750033, 4.56650362, 0.09306403])\n",
      "\n",
      "And inv hessian (with to-dense):\n",
      "[[ 2.95649136e+00 -2.12097567e+00 -2.72434964e+01 -7.24709999e-02]\n",
      " [-2.12097567e+00  5.83080835e+00  1.98503940e+01  2.64243645e-01]\n",
      " [-2.72434964e+01  1.98503940e+01  2.51066077e+02  6.82983897e-01]\n",
      " [-7.24709999e-02  2.64243645e-01  6.82983897e-01  1.23027885e-02]]\n"
     ]
    }
   ],
   "source": [
    "bounds = ((1e-6, 1-1e-6), (-1+1e-6, 1-1e-6),(1e-6, None), (1e-6, None))\n",
    "\n",
    "results1 = opt.minimize(crit_fn1, params0, args=(w, k), method ='L-BFGS-B', bounds=bounds)\n",
    "alpha1, rho1, mu1, sigma1 = results1.x\n",
    "print(\"Results are:\")\n",
    "print(results1)\n",
    "print(\"\\nAnd inv hessian (with to-dense):\")\n",
    "print(results1.hess_inv.todense())"
   ]
  },
  {
   "cell_type": "markdown",
   "metadata": {},
   "source": [
    "#### Part (b):"
   ]
  },
  {
   "cell_type": "code",
   "execution_count": 26,
   "metadata": {},
   "outputs": [],
   "source": [
    "# Write new functions\n",
    "def calc_z_partb(r, k, alpha):\n",
    "    \n",
    "    z = np.log(r) - np.log(alpha) - (alpha-1)*np.log(k)\n",
    "    \n",
    "    return z \n",
    "\n",
    "def crit_fn_partb(params, *args):\n",
    "   \n",
    "    alpha, rho, mu, sigma = params\n",
    "    w, k  = args\n",
    "    z = calc_z_partb(r, k, alpha)\n",
    "    pdf_vals = np.log(norm_pdf(z, rho, mu, sigma))\n",
    "    \n",
    "    return -pdf_vals.sum() "
   ]
  },
  {
   "cell_type": "code",
   "execution_count": 27,
   "metadata": {},
   "outputs": [
    {
     "name": "stdout",
     "output_type": "stream",
     "text": [
      "Results are:\n",
      "      fun: -95.55298518258294\n",
      " hess_inv: <4x4 LbfgsInvHessProduct with dtype=float64>\n",
      "      jac: array([-0.01463576, -0.00019327, -0.00170104,  0.00201652])\n",
      "  message: b'CONVERGENCE: REL_REDUCTION_OF_F_<=_FACTR*EPSMCH'\n",
      "     nfev: 300\n",
      "      nit: 43\n",
      "   status: 0\n",
      "  success: True\n",
      "        x: array([0.85065892, 0.51750033, 4.56650362, 0.09306403])\n",
      "\n",
      "And inv hessian (with to-dense):\n",
      "[[ 7.13090174e-01 -9.74626965e-02 -1.26912201e+01 -3.89786071e-02]\n",
      " [-9.74626965e-02  1.00508058e+00  2.53428467e+00  7.95132968e-02]\n",
      " [-1.26912201e+01  2.53428467e+00  2.26528805e+02  7.58725887e-01]\n",
      " [-3.89786071e-02  7.95132968e-02  7.58725887e-01  1.01326025e-02]]\n"
     ]
    },
    {
     "name": "stderr",
     "output_type": "stream",
     "text": [
      "/home/cooper/anaconda3/lib/python3.6/site-packages/ipykernel_launcher.py:13: RuntimeWarning: divide by zero encountered in log\n",
      "  del sys.path[0]\n",
      "/home/cooper/anaconda3/lib/python3.6/site-packages/scipy/optimize/optimize.py:643: RuntimeWarning: invalid value encountered in double_scalars\n",
      "  grad[k] = (f(*((xk + d,) + args)) - f0) / d[k]\n"
     ]
    }
   ],
   "source": [
    "bounds = ((1e-6, 1-1e-6), (-1+1e-6, 1-1e-6),(1e-6, None), (1e-6, None))\n",
    "\n",
    "results2 = opt.minimize(crit_fn_partb, params0, args=(w, k), method ='L-BFGS-B', bounds=bounds)\n",
    "alpha2, rho2, mu2, sigma2 = results2.x\n",
    "print(\"Results are:\")\n",
    "print(results1)\n",
    "print(\"\\nAnd inv hessian (with to-dense):\")\n",
    "print(results2.hess_inv.todense())"
   ]
  },
  {
   "cell_type": "markdown",
   "metadata": {},
   "source": [
    "#### Part (c):"
   ]
  },
  {
   "cell_type": "code",
   "execution_count": 30,
   "metadata": {},
   "outputs": [
    {
     "name": "stdout",
     "output_type": "stream",
     "text": [
      "Probability :  nan\n"
     ]
    },
    {
     "name": "stderr",
     "output_type": "stream",
     "text": [
      "/home/cooper/anaconda3/lib/python3.6/site-packages/ipykernel_launcher.py:3: RuntimeWarning: invalid value encountered in log\n",
      "  This is separate from the ipykernel package so we can avoid doing imports until\n"
     ]
    }
   ],
   "source": [
    "z = calc_z(1, 7500000, alpha2)\n",
    "mean = rho2 * 10 + (1 - rho2) * mu2\n",
    "print('Probability : ',  1-norm.cdf(z, mean, sigma2))"
   ]
  },
  {
   "cell_type": "code",
   "execution_count": null,
   "metadata": {},
   "outputs": [],
   "source": []
  }
 ],
 "metadata": {
  "kernelspec": {
   "display_name": "Python 3",
   "language": "python",
   "name": "python3"
  },
  "language_info": {
   "codemirror_mode": {
    "name": "ipython",
    "version": 3
   },
   "file_extension": ".py",
   "mimetype": "text/x-python",
   "name": "python",
   "nbconvert_exporter": "python",
   "pygments_lexer": "ipython3",
   "version": "3.6.4"
  }
 },
 "nbformat": 4,
 "nbformat_minor": 2
}
