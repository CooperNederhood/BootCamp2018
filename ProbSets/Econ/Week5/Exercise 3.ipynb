{
 "cells": [
  {
   "cell_type": "code",
   "execution_count": 24,
   "metadata": {},
   "outputs": [],
   "source": [
    "#import packages \n",
    "import numpy as np\n",
    "import pandas as pd\n",
    "import scipy.stats as sts\n",
    "import os\n",
    "import matplotlib.pyplot as plt\n",
    "import scipy.optimize as opt\n",
    "from scipy import special\n",
    "from scipy.integrate import quad\n",
    "import math"
   ]
  },
  {
   "cell_type": "code",
   "execution_count": 6,
   "metadata": {},
   "outputs": [
    {
     "data": {
      "text/html": [
       "<div>\n",
       "<style scoped>\n",
       "    .dataframe tbody tr th:only-of-type {\n",
       "        vertical-align: middle;\n",
       "    }\n",
       "\n",
       "    .dataframe tbody tr th {\n",
       "        vertical-align: top;\n",
       "    }\n",
       "\n",
       "    .dataframe thead th {\n",
       "        text-align: right;\n",
       "    }\n",
       "</style>\n",
       "<table border=\"1\" class=\"dataframe\">\n",
       "  <thead>\n",
       "    <tr style=\"text-align: right;\">\n",
       "      <th></th>\n",
       "      <th>percent</th>\n",
       "      <th>mid</th>\n",
       "    </tr>\n",
       "  </thead>\n",
       "  <tbody>\n",
       "    <tr>\n",
       "      <th>0</th>\n",
       "      <td>0.035190</td>\n",
       "      <td>2500</td>\n",
       "    </tr>\n",
       "    <tr>\n",
       "      <th>1</th>\n",
       "      <td>0.041062</td>\n",
       "      <td>7500</td>\n",
       "    </tr>\n",
       "    <tr>\n",
       "      <th>2</th>\n",
       "      <td>0.058859</td>\n",
       "      <td>12500</td>\n",
       "    </tr>\n",
       "    <tr>\n",
       "      <th>3</th>\n",
       "      <td>0.056836</td>\n",
       "      <td>17500</td>\n",
       "    </tr>\n",
       "    <tr>\n",
       "      <th>4</th>\n",
       "      <td>0.058595</td>\n",
       "      <td>22500</td>\n",
       "    </tr>\n",
       "  </tbody>\n",
       "</table>\n",
       "</div>"
      ],
      "text/plain": [
       "    percent    mid\n",
       "0  0.035190   2500\n",
       "1  0.041062   7500\n",
       "2  0.058859  12500\n",
       "3  0.056836  17500\n",
       "4  0.058595  22500"
      ]
     },
     "execution_count": 6,
     "metadata": {},
     "output_type": "execute_result"
    }
   ],
   "source": [
    "# Import data and do some cleaning\n",
    "data = pd.read_csv('usincmoms.txt', delimiter ='\\t' ,header=None)\n",
    "data.columns = ['percent', 'mid']\n",
    "data.head()"
   ]
  },
  {
   "cell_type": "markdown",
   "metadata": {},
   "source": [
    "### Part a:"
   ]
  },
  {
   "cell_type": "code",
   "execution_count": 7,
   "metadata": {},
   "outputs": [
    {
     "data": {
      "image/png": "[encoded data removed]",
      "text/plain": [
       "<matplotlib.figure.Figure at 0x7f4390d71390>"
      ]
     },
     "metadata": {},
     "output_type": "display_data"
    }
   ],
   "source": [
    "# Adjust for histogram\n",
    "bar_h = data['percent'].copy()\n",
    "bar_h[41] = data['percent'][41].copy() / 20\n",
    "bar_h[40] = data['percent'][40].copy() / 10\n",
    "w = np.ones(42) * 5\n",
    "w[41] = 100\n",
    "w[40] = 50\n",
    "\n",
    "plt.bar(data['mid'] / 1000, bar_h, width=w, align='center')\n",
    "plt.xlabel('Income (thousands of $)')\n",
    "plt.ylabel('Pct of US pop')\n",
    "plt.title('Income dist in the US')\n",
    "plt.show()"
   ]
  },
  {
   "cell_type": "markdown",
   "metadata": {},
   "source": [
    "### Part b:"
   ]
  },
  {
   "cell_type": "code",
   "execution_count": 9,
   "metadata": {},
   "outputs": [],
   "source": [
    "# Define bin upper bounds\n",
    "bins = np.zeros(42, dtype=np.float64)\n",
    "bins[0] = 5000\n",
    "# Middle range:\n",
    "for i in range(1, 40):\n",
    "    bins[i] = (data['mid'][i] + data['mid'][i+1])/2\n",
    "\n",
    "bins[39] = 200000\n",
    "bins[40] = 250000\n",
    "bins[41] = np.inf"
   ]
  },
  {
   "cell_type": "code",
   "execution_count": 10,
   "metadata": {},
   "outputs": [],
   "source": [
    "# Define functions\n",
    "def model_moments(mu, sigma):\n",
    "    pdf_vals = np.zeros(42, dtype=np.float64)\n",
    "    dist_1 = sts.norm.cdf(np.log(bins), mu, sigma)\n",
    "    bins_2 = np.roll(bins, 1)\n",
    "    bins_2[0] = 1e-10\n",
    "    dist_2 = sts.norm.cdf(np.log(bins_2), mu, sigma)\n",
    "    pdf_vals = dist_1 - dist_2\n",
    "    \n",
    "    return pdf_vals\n",
    "\n",
    "def err_vec(data_dist, mu, sigma, simple):\n",
    "    moms_data = data_dist\n",
    "    moms_model = model_moments(mu, sigma)\n",
    "    if simple:\n",
    "        err_vec = moms_model - moms_data\n",
    "    else:\n",
    "        err_vec = (moms_model - moms_data) / moms_data\n",
    "    \n",
    "    return err_vec\n",
    "\n",
    "def criterion(params, *args):\n",
    "    mu, sigma = params\n",
    "    data_dist, W = args\n",
    "    err = err_vec(data_dist, mu, sigma, simple=False)\n",
    "    crit_val = np.dot(np.dot(err.T, W), err)\n",
    "    \n",
    "    return crit_val"
   ]
  },
  {
   "cell_type": "code",
   "execution_count": 13,
   "metadata": {},
   "outputs": [
    {
     "name": "stdout",
     "output_type": "stream",
     "text": [
      "mu_GMM1= 10.766845399467112  sig_GMM1= 0.9078424242886773\n",
      "      fun: 0.045945282536398326\n",
      " hess_inv: <2x2 LbfgsInvHessProduct with dtype=float64>\n",
      "      jac: array([5.21319099e-06, 7.31359417e-06])\n",
      "  message: b'CONVERGENCE: NORM_OF_PROJECTED_GRADIENT_<=_PGTOL'\n",
      "     nfev: 102\n",
      "      nit: 11\n",
      "   status: 0\n",
      "  success: True\n",
      "        x: array([10.7668454 ,  0.90784242])\n"
     ]
    }
   ],
   "source": [
    "mu_init = 4\n",
    "sig_init = 1\n",
    "params_init = np.array([mu_init, sig_init])\n",
    "W_hat = np.diag(data['percent'])\n",
    "gmm_args = (data['percent'], W_hat)\n",
    "results = opt.minimize(criterion, params_init, args=(gmm_args),\n",
    "                       method='L-BFGS-B', bounds=((None, None), (1e-10, None)))\n",
    "mu_GMM1, sig_GMM1 = results.x\n",
    "print('mu_GMM1=', mu_GMM1, ' sig_GMM1=', sig_GMM1)\n",
    "print(results)"
   ]
  },
  {
   "cell_type": "code",
   "execution_count": 14,
   "metadata": {},
   "outputs": [],
   "source": [
    "# More functions defs\n",
    "def log_normal(xvals, mu, sigma):\n",
    "    pdf_vals= (1/(xvals * sigma * np.sqrt(2 * np.pi)) *\\\n",
    "               np.exp(-(np.log(xvals) - mu)**2 /(2 * sigma**2)))\n",
    "    return pdf_vals\n",
    "\n"
   ]
  },
  {
   "cell_type": "code",
   "execution_count": 17,
   "metadata": {},
   "outputs": [
    {
     "data": {
      "image/png": "[encoded data removed]",
      "text/plain": [
       "<matplotlib.figure.Figure at 0x7f43864524e0>"
      ]
     },
     "metadata": {},
     "output_type": "display_data"
    }
   ],
   "source": [
    "plt.bar(data['mid'] / 1000, bar_h, color='blue', edgecolor='k', align='center', width=w)\n",
    "plt.xlabel('Income (thousands of $)')\n",
    "plt.ylabel('Pct of US pop')\n",
    "plt.title('Income dist in the US')\n",
    "\n",
    "x = np.linspace(1e-3, 350000, 1000)\n",
    "y = 5e3 * log_normal(x, mu_GMM1, sig_GMM1)\n",
    "plt.plot(x / 1000, y, linewidth=2)\n",
    "plt.show()"
   ]
  },
  {
   "cell_type": "markdown",
   "metadata": {},
   "source": [
    "### Part c:"
   ]
  },
  {
   "cell_type": "code",
   "execution_count": 22,
   "metadata": {},
   "outputs": [],
   "source": [
    "# Define moments functions\n",
    "def model_momentsGA(xvals, alpha, beta):\n",
    "    pdf_vals = 1/((beta ** alpha) * math.gamma(alpha)) * (xvals ** (alpha - 1)) * np.exp(-xvals/beta)\n",
    "    \n",
    "    return 5000 * pdf_vals\n",
    "\n",
    "def err_vecGA(alpha, beta, perc, simple = False):\n",
    "    modelpcts = model_momentsGA(data['percent'], alpha, beta)\n",
    "    if simple:\n",
    "        err_vec1 = modelpcts - perc\n",
    "    else:\n",
    "        err_vec1 = (modelpcts - perc)/perc\n",
    "    return err_vec1\n",
    "\n",
    "def critGA(params, *args):\n",
    "    alpha, beta = params\n",
    "    pcts, W = args\n",
    "    err = err_vecGA(alpha, beta, pcts)\n",
    "    crit_val = np.dot(np.dot(err.T, W),err)\n",
    "    return crit_val"
   ]
  },
  {
   "cell_type": "code",
   "execution_count": 25,
   "metadata": {},
   "outputs": [
    {
     "data": {
      "text/plain": [
       "      fun: 0.9999999999766881\n",
       " hess_inv: <2x2 LbfgsInvHessProduct with dtype=float64>\n",
       "      jac: array([0., 0.])\n",
       "  message: b'CONVERGENCE: NORM_OF_PROJECTED_GRADIENT_<=_PGTOL'\n",
       "     nfev: 3\n",
       "      nit: 0\n",
       "   status: 0\n",
       "  success: True\n",
       "        x: array([3.e+00, 2.e+04])"
      ]
     },
     "execution_count": 25,
     "metadata": {},
     "output_type": "execute_result"
    }
   ],
   "source": [
    "alpha_init = 3.0\n",
    "beta_init = 20000\n",
    "params_init_c = np.array([alpha_init, beta_init])\n",
    "gmm_args_c = (data['percent'], W_hat)\n",
    "\n",
    "results_c = opt.minimize(critGA, params_init_c, args=(gmm_args_c),\n",
    "                       method='L-BFGS-B', bounds=((1e-8, None), (1e-8, None)))\n",
    "alpha_gmm_c, beta_gmm_c = results_c.x\n",
    "\n",
    "results_c"
   ]
  },
  {
   "cell_type": "code",
   "execution_count": 26,
   "metadata": {},
   "outputs": [],
   "source": [
    "def gamma_pdf(xvals, alpha, beta):\n",
    "    pdf_vals = 1/((beta ** alpha) * math.gamma(alpha)) * (xvals ** (alpha - 1)) * np.exp(-xvals/beta)\n",
    "    \n",
    "    return 5000 * pdf_vals\n",
    "\n"
   ]
  },
  {
   "cell_type": "code",
   "execution_count": 28,
   "metadata": {},
   "outputs": [
    {
     "data": {
      "image/png": "[encoded data removed]",
      "text/plain": [
       "<matplotlib.figure.Figure at 0x7f4386452470>"
      ]
     },
     "metadata": {},
     "output_type": "display_data"
    }
   ],
   "source": [
    "plt.bar(data['mid'] / 1000, bar_h, color='blue', edgecolor='k', align='center', width=w)\n",
    "plt.xlabel('Income (thousands of $)')\n",
    "plt.ylabel('Pct of US pop')\n",
    "plt.title('Income dist in the US')\n",
    "\n",
    "x = np.linspace(1e-3, 350000, 1000)\n",
    "y2 = gamma_pdf(x, alpha_gmm_c, beta_gmm_c)\n",
    "plt.plot(x / 1000, y2, linewidth=2, label=\"GA\")\n",
    "plt.legend()\n",
    "plt.show()\n"
   ]
  },
  {
   "cell_type": "markdown",
   "metadata": {},
   "source": [
    "#### Part d:"
   ]
  },
  {
   "cell_type": "code",
   "execution_count": 29,
   "metadata": {},
   "outputs": [
    {
     "data": {
      "image/png": "[encoded data removed]",
      "text/plain": [
       "<matplotlib.figure.Figure at 0x7f43862307b8>"
      ]
     },
     "metadata": {},
     "output_type": "display_data"
    }
   ],
   "source": [
    "plt.bar(data['mid'] / 1000, bar_h, color='blue', edgecolor='k', align='center', width=w)\n",
    "plt.xlabel('Income (thousands of $)')\n",
    "plt.ylabel('Pct of US pop')\n",
    "plt.title('Income dist in the US')\n",
    "\n",
    "x = np.linspace(1e-3, 350000, 1000)\n",
    "y = 5e3 * log_normal(x, mu_GMM1, sig_GMM1)\n",
    "plt.plot(x / 1000, y, linewidth=2, label=\"Lognormal\")\n",
    "y2 = gamma_pdf(x, alpha_gmm_c, beta_gmm_c)\n",
    "plt.plot(x / 1000, y2, linewidth=2, label=\"GA\")\n",
    "plt.legend()\n",
    "plt.show()"
   ]
  },
  {
   "cell_type": "markdown",
   "metadata": {},
   "source": [
    "From a non-rigorous visual check, it appears the lognormal approximation fits the data better"
   ]
  },
  {
   "cell_type": "markdown",
   "metadata": {},
   "source": [
    "#### Part e:"
   ]
  },
  {
   "cell_type": "code",
   "execution_count": 31,
   "metadata": {},
   "outputs": [
    {
     "data": {
      "text/plain": [
       "      fun: 2484.585112399494\n",
       " hess_inv: <2x2 LbfgsInvHessProduct with dtype=float64>\n",
       "      jac: array([9.74247996e+01, 4.54747351e-05])\n",
       "  message: b'CONVERGENCE: REL_REDUCTION_OF_F_<=_FACTR*EPSMCH'\n",
       "     nfev: 129\n",
       "      nit: 9\n",
       "   status: 0\n",
       "  success: True\n",
       "        x: array([1.00000000e-08, 3.15754925e+01])"
      ]
     },
     "execution_count": 31,
     "metadata": {},
     "output_type": "execute_result"
    }
   ],
   "source": [
    "alpha_init = 3.0\n",
    "beta_init = 20000\n",
    "\n",
    "params_init = np.array([alpha_init, beta_init])\n",
    "gmm_args = (data['percent'], np.eye(42))\n",
    "results_Iden = opt.minimize(criterion, params_init, args=(gmm_args),\n",
    "                       method='L-BFGS-B', bounds=((1e-8, None), (1e-8, None)))\n",
    "\n",
    "alpha_GMM_Iden, beta_GMM_Iden = results_Iden.x\n",
    "\n",
    "W_hat2 = (1/42) * (err_vec(data['percent'], alpha_GMM_Iden, beta_GMM_Iden, False).values @ \\\n",
    "                   err_vec(data['percent'], alpha_GMM_Iden,  beta_GMM_Iden, False).values)\n",
    "\n",
    "gmm_args = (data['percent'], W_hat2)\n",
    "\n",
    "results = opt.minimize(criterion, params_init, args=(gmm_args),\n",
    "                       method='L-BFGS-B', bounds=((1e-8, None), (1e-8, None)))\n",
    "\n",
    "alpha_GMM_2, beta_GMM_2 = results.x\n",
    "results\n"
   ]
  },
  {
   "cell_type": "code",
   "execution_count": null,
   "metadata": {},
   "outputs": [],
   "source": []
  }
 ],
 "metadata": {
  "kernelspec": {
   "display_name": "Python 3",
   "language": "python",
   "name": "python3"
  },
  "language_info": {
   "codemirror_mode": {
    "name": "ipython",
    "version": 3
   },
   "file_extension": ".py",
   "mimetype": "text/x-python",
   "name": "python",
   "nbconvert_exporter": "python",
   "pygments_lexer": "ipython3",
   "version": "3.6.4"
  }
 },
 "nbformat": 4,
 "nbformat_minor": 2
}
