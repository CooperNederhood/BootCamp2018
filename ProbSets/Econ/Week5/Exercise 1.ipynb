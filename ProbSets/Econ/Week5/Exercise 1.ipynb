{
 "cells": [
  {
   "cell_type": "markdown",
   "metadata": {},
   "source": [
    "### Exercise 1\n",
    "#### By Cooper Nederhood"
   ]
  },
  {
   "cell_type": "code",
   "execution_count": 63,
   "metadata": {},
   "outputs": [],
   "source": [
    "#import packages \n",
    "import numpy as np\n",
    "import pandas as pd\n",
    "import scipy.stats as sts\n",
    "import os\n",
    "import matplotlib.pyplot as plt\n",
    "import scipy.optimize as opt\n",
    "from scipy import special\n",
    "from scipy.integrate import quad"
   ]
  },
  {
   "cell_type": "code",
   "execution_count": 11,
   "metadata": {},
   "outputs": [],
   "source": [
    "data = np.loadtxt('clms.txt')\n"
   ]
  },
  {
   "cell_type": "markdown",
   "metadata": {},
   "source": [
    "#### Part a:"
   ]
  },
  {
   "cell_type": "code",
   "execution_count": 13,
   "metadata": {},
   "outputs": [
    {
     "data": {
      "text/html": [
       "<div>\n",
       "<style scoped>\n",
       "    .dataframe tbody tr th:only-of-type {\n",
       "        vertical-align: middle;\n",
       "    }\n",
       "\n",
       "    .dataframe tbody tr th {\n",
       "        vertical-align: top;\n",
       "    }\n",
       "\n",
       "    .dataframe thead th {\n",
       "        text-align: right;\n",
       "    }\n",
       "</style>\n",
       "<table border=\"1\" class=\"dataframe\">\n",
       "  <thead>\n",
       "    <tr style=\"text-align: right;\">\n",
       "      <th></th>\n",
       "      <th>0</th>\n",
       "    </tr>\n",
       "  </thead>\n",
       "  <tbody>\n",
       "    <tr>\n",
       "      <th>count</th>\n",
       "      <td>10619.000000</td>\n",
       "    </tr>\n",
       "    <tr>\n",
       "      <th>mean</th>\n",
       "      <td>720.277975</td>\n",
       "    </tr>\n",
       "    <tr>\n",
       "      <th>std</th>\n",
       "      <td>3972.850824</td>\n",
       "    </tr>\n",
       "    <tr>\n",
       "      <th>min</th>\n",
       "      <td>0.010000</td>\n",
       "    </tr>\n",
       "    <tr>\n",
       "      <th>25%</th>\n",
       "      <td>74.450000</td>\n",
       "    </tr>\n",
       "    <tr>\n",
       "      <th>50%</th>\n",
       "      <td>172.210000</td>\n",
       "    </tr>\n",
       "    <tr>\n",
       "      <th>75%</th>\n",
       "      <td>451.535000</td>\n",
       "    </tr>\n",
       "    <tr>\n",
       "      <th>max</th>\n",
       "      <td>227967.250000</td>\n",
       "    </tr>\n",
       "  </tbody>\n",
       "</table>\n",
       "</div>"
      ],
      "text/plain": [
       "                   0\n",
       "count   10619.000000\n",
       "mean      720.277975\n",
       "std      3972.850824\n",
       "min         0.010000\n",
       "25%        74.450000\n",
       "50%       172.210000\n",
       "75%       451.535000\n",
       "max    227967.250000"
      ]
     },
     "execution_count": 13,
     "metadata": {},
     "output_type": "execute_result"
    }
   ],
   "source": [
    "# Describe data\n",
    "data_df = pd.DataFrame(data)\n",
    "data_df.describe()"
   ]
  },
  {
   "cell_type": "code",
   "execution_count": 8,
   "metadata": {},
   "outputs": [
    {
     "data": {
      "text/plain": [
       "Text(0,0.5,'Percent of total obs')"
      ]
     },
     "execution_count": 8,
     "metadata": {},
     "output_type": "execute_result"
    },
    {
     "data": {
      "image/png": "[encoded data removed]",
      "text/plain": [
       "<matplotlib.figure.Figure at 0x7f0e8c808320>"
      ]
     },
     "metadata": {},
     "output_type": "display_data"
    }
   ],
   "source": [
    "# Part (a):\n",
    "w = (1 / data.shape[0]) * np.ones_like(data)\n",
    "\n",
    "# Histogram \n",
    "count, bins, ignored = plt.hist(data, 1000, weights=w)\n",
    "plt.title('Health claim amounts', fontsize=20)\n",
    "plt.xlabel('Claims ($)')\n",
    "plt.ylabel('Percent of total obs')\n",
    "\n"
   ]
  },
  {
   "cell_type": "code",
   "execution_count": 10,
   "metadata": {},
   "outputs": [
    {
     "data": {
      "text/plain": [
       "(0, 800)"
      ]
     },
     "execution_count": 10,
     "metadata": {},
     "output_type": "execute_result"
    },
    {
     "data": {
      "image/png": "[encoded data removed]",
      "text/plain": [
       "<matplotlib.figure.Figure at 0x7f0e82bb8748>"
      ]
     },
     "metadata": {},
     "output_type": "display_data"
    }
   ],
   "source": [
    "# Other histogram\n",
    "b = data <= 800\n",
    "data_subsection = data[b]\n",
    "weights = (1 / data.shape[0]) * np.ones_like(data_subsection)\n",
    "n, bins, ignored = plt.hist(data_subsection, 100, weights=weights, edgecolor='black',\n",
    "                                linewidth=0.5)\n",
    "plt.title('Health claim amounts(<= 800)', fontsize=20)\n",
    "plt.xlabel('Claims ($)')\n",
    "plt.ylabel('Percent of total obs')\n",
    "plt.xlim(0, 800)"
   ]
  },
  {
   "cell_type": "markdown",
   "metadata": {},
   "source": [
    "If we want to zoon in and see the variation within the 0-800($) claim amounts, the second histogram is better. Because this subsection has low probability compared to the whole, when included with all observations the variation within the group is hard to discern."
   ]
  },
  {
   "cell_type": "markdown",
   "metadata": {},
   "source": [
    "#### Part b (gamma):"
   ]
  },
  {
   "cell_type": "code",
   "execution_count": 19,
   "metadata": {},
   "outputs": [],
   "source": [
    "# Define functions\n",
    "\n",
    "def GA_pdf(xvals, alpha, beta):\n",
    "\n",
    "    pdf_vals = 1/((beta ** alpha) * special.gamma(alpha)) * (xvals ** (alpha - 1)) * np.exp(-xvals/beta)\n",
    "    return pdf_vals\n",
    "\n",
    "def log_lik_GA(xvals, alpha, beta):\n",
    "  \n",
    "    pdf_vals = GA_pdf(xvals, alpha, beta)\n",
    "    ln_pdf_vals = np.log(pdf_vals)\n",
    "    log_lik_val = ln_pdf_vals.sum()\n",
    "    \n",
    "    return log_lik_val\n",
    "\n",
    "def criterion_fn(params, args):\n",
    "    \n",
    "    alpha, beta = params\n",
    "    xvals = args\n",
    "    log_lik_val = log_lik_GA(xvals, alpha, beta)\n",
    "    neg_log_lik_val = -log_lik_val\n",
    "    \n",
    "    return neg_log_lik_val"
   ]
  },
  {
   "cell_type": "code",
   "execution_count": null,
   "metadata": {},
   "outputs": [],
   "source": [
    "beta0 = (data.var())/data.mean()\n",
    "alpha0 = data.mean()/beta0  \n",
    "params0 = (alpha0, beta0)"
   ]
  },
  {
   "cell_type": "code",
   "execution_count": 22,
   "metadata": {},
   "outputs": [
    {
     "name": "stdout",
     "output_type": "stream",
     "text": [
      "Estimation results are: \n",
      "       fun: 82076.45160566256\n",
      " hess_inv: <2x2 LbfgsInvHessProduct with dtype=float64>\n",
      "      jac: array([0.        , 0.09022187])\n",
      "  message: b'CONVERGENCE: REL_REDUCTION_OF_F_<=_FACTR*EPSMCH'\n",
      "     nfev: 33\n",
      "      nit: 8\n",
      "   status: 0\n",
      "  success: True\n",
      "        x: array([2.21755323e-01, 2.19110647e+04])\n"
     ]
    }
   ],
   "source": [
    "bounds = ((1e-6, None), (1e-6, None))\n",
    "results = opt.minimize(criterion_fn, params0, args=(data), method ='L-BFGS-B', bounds=bounds)\n",
    "alpha1, beta1 = results.x\n",
    "print(\"Estimation results are: \\n\", results)"
   ]
  },
  {
   "cell_type": "code",
   "execution_count": 30,
   "metadata": {},
   "outputs": [
    {
     "data": {
      "text/plain": [
       "(0, 800)"
      ]
     },
     "execution_count": 30,
     "metadata": {},
     "output_type": "execute_result"
    },
    {
     "data": {
      "image/png": "[encoded data removed]",
      "text/plain": [
       "<matplotlib.figure.Figure at 0x7f0e81cd4f98>"
      ]
     },
     "metadata": {},
     "output_type": "display_data"
    }
   ],
   "source": [
    "# Other histogram AGAIN!\n",
    "b = data <= 800\n",
    "data_subsection = data[b]\n",
    "weights = (1 / data.shape[0]) * np.ones_like(data_subsection)\n",
    "n, bins, ignored = plt.hist(data_subsection, 100, weights=weights, edgecolor='black',\n",
    "                                linewidth=0.5)\n",
    "plt.title('Health claim amounts(<= 800)', fontsize=20)\n",
    "plt.xlabel('Claims ($)')\n",
    "plt.ylabel('Percent of total obs')\n",
    "\n",
    "x_vals = np.linspace(1, 800, 200)\n",
    "plt.plot(x_vals, GA_pdf(x_vals, alpha1, beta1), label='Estimate', color='r')\n",
    "plt.xlim(0, 800)"
   ]
  },
  {
   "cell_type": "markdown",
   "metadata": {},
   "source": [
    "#### Part c (Generalized gamma):"
   ]
  },
  {
   "cell_type": "code",
   "execution_count": 42,
   "metadata": {},
   "outputs": [],
   "source": [
    "# Define functions\n",
    "\n",
    "def GG_pdf(xvals, alpha, beta, m):\n",
    "\n",
    "    pdf_vals = m/((beta**alpha)*special.gamma(alpha/m))*(xvals**(alpha - 1))*np.exp(-(xvals/beta)**m)\n",
    "    return pdf_vals\n",
    "\n",
    "def log_lik_GG(xvals, alpha, beta, m):\n",
    "  \n",
    "    pdf_vals = GG_pdf(xvals, alpha, beta, m)\n",
    "    ln_pdf_vals = np.log(pdf_vals)\n",
    "     \n",
    "    return ln_pdf_vals.sum()\n",
    "\n",
    "def criterion_fnGG(params, args):\n",
    "    \n",
    "    alpha, beta, m = params\n",
    "    xvals = args\n",
    "    log_lik_val = log_lik_GG(xvals, alpha, beta, m)\n",
    "    \n",
    "    return -log_lik_val"
   ]
  },
  {
   "cell_type": "code",
   "execution_count": 43,
   "metadata": {},
   "outputs": [
    {
     "name": "stdout",
     "output_type": "stream",
     "text": [
      "Estimation results are: \n",
      "       fun: 82076.44679084865\n",
      " hess_inv: <3x3 LbfgsInvHessProduct with dtype=float64>\n",
      "      jac: array([-3.65253072,  0.09167707, -1.04337232])\n",
      "  message: b'CONVERGENCE: REL_REDUCTION_OF_F_<=_FACTR*EPSMCH'\n",
      "     nfev: 24\n",
      "      nit: 2\n",
      "   status: 0\n",
      "  success: True\n",
      "        x: array([2.21737619e-01, 2.19110644e+04, 9.97091566e-01])\n"
     ]
    }
   ],
   "source": [
    "m = 1\n",
    "params1 = (alpha1, beta1, m)\n",
    "\n",
    "bounds = ((1e-6, None), (1e-6, None), (1e-6, None))\n",
    "resultGG = opt.minimize(criterion_fnGG, params1, args=(data), method ='L-BFGS-B', bounds=bounds)\n",
    "alpha2, beta2, m2 = resultGG.x\n",
    "print(\"Estimation results are: \\n\", resultGG)"
   ]
  },
  {
   "cell_type": "code",
   "execution_count": 50,
   "metadata": {},
   "outputs": [
    {
     "data": {
      "text/plain": [
       "(0, 800)"
      ]
     },
     "execution_count": 50,
     "metadata": {},
     "output_type": "execute_result"
    },
    {
     "data": {
      "image/png": "[encoded data removed]",
      "text/plain": [
       "<matplotlib.figure.Figure at 0x7f0e821adb00>"
      ]
     },
     "metadata": {},
     "output_type": "display_data"
    }
   ],
   "source": [
    "# Other histogram AGAIN!\n",
    "b = data <= 800\n",
    "data_subsection = data[b]\n",
    "weights = (1 / data.shape[0]) * np.ones_like(data_subsection)\n",
    "n, bins, ignored = plt.hist(data_subsection, 100, weights=weights, edgecolor='black',\n",
    "                                linewidth=0.5)\n",
    "plt.title('Health claim amounts(<= 800)', fontsize=20)\n",
    "plt.xlabel('Claims ($)')\n",
    "plt.ylabel('Percent of total obs')\n",
    "\n",
    "x_vals = np.linspace(1, 800, 200)\n",
    "plt.plot(x_vals, GG_pdf(x_vals, alpha2, beta2, m2), label='Estimate', color='r')\n",
    "plt.xlim(0, 800)"
   ]
  },
  {
   "cell_type": "markdown",
   "metadata": {},
   "source": [
    "#### Part d: (More generalized gamma)"
   ]
  },
  {
   "cell_type": "code",
   "execution_count": 53,
   "metadata": {},
   "outputs": [],
   "source": [
    "q0 = 200\n",
    "a0 = m2\n",
    "b0 = q0**(1/a0)*beta2\n",
    "p0 = alpha2/m2\n",
    "\n",
    "params_GB2 = (a0, b0, p0, q0)"
   ]
  },
  {
   "cell_type": "code",
   "execution_count": 54,
   "metadata": {},
   "outputs": [],
   "source": [
    "# Define functions\n",
    "def GB2_pdf(xvals, a, b ,p, q):\n",
    "    x = a*xvals**(a*p-1)\n",
    "    y = (b**(a*p))*special.beta(p,q)*((1+(xvals/b)**a)**(p+q))\n",
    "    pdf_vals = x/y\n",
    "    return pdf_vals\n",
    "\n",
    "def log_lik_GB2(xvals, a, b, p, q):\n",
    "  \n",
    "    pdf_vals = GB2_pdf(xvals, a, b ,p, q)\n",
    "    ln_pdf_vals = np.log(pdf_vals)\n",
    "     \n",
    "    return ln_pdf_vals.sum()\n",
    "\n",
    "def criterion_fnGB2(params, args):\n",
    "    \n",
    "    a, b, p, q = params\n",
    "    xvals = args\n",
    "    log_lik_val = log_lik_GB2(xvals, a, b, p, q)\n",
    "    \n",
    "    return -log_lik_val"
   ]
  },
  {
   "cell_type": "code",
   "execution_count": 55,
   "metadata": {},
   "outputs": [
    {
     "name": "stdout",
     "output_type": "stream",
     "text": [
      "Estimation results are: \n",
      "       fun: 74880.41669880107\n",
      " hess_inv: <4x4 LbfgsInvHessProduct with dtype=float64>\n",
      "      jac: array([ 4.20841388e+00,  1.45519152e-03, -2.12457962e-01, -2.67755240e-01])\n",
      "  message: b'CONVERGENCE: REL_REDUCTION_OF_F_<=_FACTR*EPSMCH'\n",
      "     nfev: 610\n",
      "      nit: 79\n",
      "   status: 0\n",
      "  success: True\n",
      "        x: array([1.12630384e-01, 4.45046496e+06, 4.60353961e+01, 1.42298270e+02])\n"
     ]
    }
   ],
   "source": [
    "bounds = ((1e-6, None), (1e-6, None), (1e-6, None), (1e-6, None))\n",
    "resultGB2 = opt.minimize(criterion_fnGB2, params_GB2, args=(data), method ='L-BFGS-B', bounds=bounds)\n",
    "a1, b1, p1, q1 = resultGB2.x\n",
    "print(\"Estimation results are: \\n\", resultGB2)"
   ]
  },
  {
   "cell_type": "code",
   "execution_count": 56,
   "metadata": {},
   "outputs": [
    {
     "data": {
      "text/plain": [
       "(0, 800)"
      ]
     },
     "execution_count": 56,
     "metadata": {},
     "output_type": "execute_result"
    },
    {
     "data": {
      "image/png": "[encoded data removed]",
      "text/plain": [
       "<matplotlib.figure.Figure at 0x7f0e822f3780>"
      ]
     },
     "metadata": {},
     "output_type": "display_data"
    }
   ],
   "source": [
    "# Lol. Plot the same histogram again\n",
    "b = data <= 800\n",
    "data_subsection = data[b]\n",
    "weights = (1 / data.shape[0]) * np.ones_like(data_subsection)\n",
    "n, bins, ignored = plt.hist(data_subsection, 100, weights=weights, edgecolor='black',\n",
    "                                linewidth=0.5)\n",
    "plt.title('Health claim amounts(<= 800)', fontsize=20)\n",
    "plt.xlabel('Claims ($)')\n",
    "plt.ylabel('Percent of total obs')\n",
    "\n",
    "x_vals = np.linspace(1, 800, 200)\n",
    "plt.plot(x_vals, GB2_pdf(x_vals, a1, b1, p1, q1), label='Estimate', color='r')\n",
    "plt.xlim(0, 800)"
   ]
  },
  {
   "cell_type": "markdown",
   "metadata": {},
   "source": [
    "#### Part e: LR test"
   ]
  },
  {
   "cell_type": "code",
   "execution_count": 62,
   "metadata": {},
   "outputs": [
    {
     "name": "stdout",
     "output_type": "stream",
     "text": [
      "chi squared of H0 with 4 degrees of freedom p-value (Generalized Gamma Distribution) =  0.0\n",
      "chi squared of H0 with 4 degrees of freedom p-value (Gamma Distribution) =  0.0\n"
     ]
    }
   ],
   "source": [
    "GB2 = log_lik_GB2(data, a1, b1, p1, q1)\n",
    "GG = log_lik_GG(data, a1, b1, m)\n",
    "GA = log_lik_GA(data, alpha1, beta1)\n",
    "GG_val = abs(2 * (GG - GB2))\n",
    "GA_val = abs(2 * (GA - GB2))\n",
    "pval_GG = 1.0 - sts.chi2.cdf(GA_val, 4)\n",
    "pval_GA = 1.0 - sts.chi2.cdf(GA_val, 4)\n",
    "print('chi squared of H0 with 4 degrees of freedom p-value (Generalized Gamma Distribution) = ', pval_GG)\n",
    "print('chi squared of H0 with 4 degrees of freedom p-value (Gamma Distribution) = ', pval_GA)"
   ]
  },
  {
   "cell_type": "code",
   "execution_count": null,
   "metadata": {},
   "outputs": [],
   "source": []
  }
 ],
 "metadata": {
  "kernelspec": {
   "display_name": "Python 3",
   "language": "python",
   "name": "python3"
  },
  "language_info": {
   "codemirror_mode": {
    "name": "ipython",
    "version": 3
   },
   "file_extension": ".py",
   "mimetype": "text/x-python",
   "name": "python",
   "nbconvert_exporter": "python",
   "pygments_lexer": "ipython3",
   "version": "3.6.4"
  }
 },
 "nbformat": 4,
 "nbformat_minor": 2
}
